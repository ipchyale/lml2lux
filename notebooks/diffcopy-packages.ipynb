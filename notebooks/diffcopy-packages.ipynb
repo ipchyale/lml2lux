{
 "cells": [
  {
   "cell_type": "code",
   "execution_count": 1,
   "id": "4ce874f1-4c1a-4214-aa18-b199163bf21e",
   "metadata": {},
   "outputs": [],
   "source": [
    "import glob, os"
   ]
  },
  {
   "cell_type": "code",
   "execution_count": 2,
   "id": "0c6f7408-c5a5-482b-aede-2292ee1219d0",
   "metadata": {},
   "outputs": [],
   "source": [
    "SOURCEDIR = \"/Volumes/IPCH1-872004-YWCPCH/Labs/LML/LML_collection/Package Images/\""
   ]
  },
  {
   "cell_type": "code",
   "execution_count": 3,
   "id": "91230eee-5062-4df6-ac6f-a01e04416b0d",
   "metadata": {},
   "outputs": [],
   "source": [
    "allnef = glob.glob(os.path.join(SOURCEDIR,\"*.nef\"))"
   ]
  },
  {
   "cell_type": "code",
   "execution_count": 4,
   "id": "a5f52bc0-7015-43ca-a0a8-9b90e186a11b",
   "metadata": {},
   "outputs": [],
   "source": [
    "TARGETDIR = \"/Users/damoncrockett/paperbase/src/assets/img/packages/\""
   ]
  },
  {
   "cell_type": "code",
   "execution_count": 5,
   "id": "f5dd6961-de8e-4949-b29d-57b7090d75a4",
   "metadata": {},
   "outputs": [],
   "source": [
    "alljpg = glob.glob(os.path.join(TARGETDIR,\"*.jpg\"))"
   ]
  },
  {
   "cell_type": "code",
   "execution_count": 6,
   "id": "b13cdc79-5330-4015-a39f-caeee47c98c3",
   "metadata": {},
   "outputs": [],
   "source": [
    "nefbase = [os.path.basename(item)[:-4] for item in allnef]"
   ]
  },
  {
   "cell_type": "code",
   "execution_count": 7,
   "id": "91573f05-dfd1-4b9e-8f54-04f5a713445a",
   "metadata": {},
   "outputs": [],
   "source": [
    "jpgbase = [os.path.basename(item)[:-4] for item in alljpg]"
   ]
  },
  {
   "cell_type": "code",
   "execution_count": 8,
   "id": "20c8db4f-a84c-4ffa-9385-e132f77cbc12",
   "metadata": {},
   "outputs": [
    {
     "data": {
      "text/plain": [
       "True"
      ]
     },
     "execution_count": 8,
     "metadata": {},
     "output_type": "execute_result"
    }
   ],
   "source": [
    "len(set(nefbase))==len(nefbase)"
   ]
  },
  {
   "cell_type": "code",
   "execution_count": 9,
   "id": "68fb15fb-fc22-4888-85a4-123d66061db1",
   "metadata": {},
   "outputs": [
    {
     "data": {
      "text/plain": [
       "True"
      ]
     },
     "execution_count": 9,
     "metadata": {},
     "output_type": "execute_result"
    }
   ],
   "source": [
    "len(set(jpgbase))==len(jpgbase)"
   ]
  },
  {
   "cell_type": "code",
   "execution_count": 10,
   "id": "97b47f68-d850-49d2-9e1f-42d868a26252",
   "metadata": {},
   "outputs": [],
   "source": [
    "diff = set(nefbase) - set(jpgbase)"
   ]
  },
  {
   "cell_type": "code",
   "execution_count": 11,
   "id": "111bf924-ad29-41d9-858c-c1128a8f5494",
   "metadata": {},
   "outputs": [],
   "source": [
    "reversediff = set(jpgbase) - set(nefbase)"
   ]
  },
  {
   "cell_type": "code",
   "execution_count": 12,
   "id": "3d4f3ae3-6c22-49bd-80f4-8bd7c912890a",
   "metadata": {},
   "outputs": [],
   "source": [
    "import shutil"
   ]
  },
  {
   "cell_type": "code",
   "execution_count": 13,
   "id": "387012bf-2be2-4db3-aab7-7fd891c30c9b",
   "metadata": {},
   "outputs": [],
   "source": [
    "DESTDIR = \"/Users/damoncrockett/Desktop/NEW/PI_NEW/\""
   ]
  },
  {
   "cell_type": "code",
   "execution_count": 14,
   "id": "ba6efc02-918a-4930-bf31-01d7a51b5e5e",
   "metadata": {
    "scrolled": true
   },
   "outputs": [
    {
     "name": "stdout",
     "output_type": "stream",
     "text": [
      "1 of 170 5251v\n",
      "2 of 170 5261\n",
      "3 of 170 5389t\n",
      "4 of 170 5213\n",
      "5 of 170 5234v\n",
      "6 of 170 5242\n",
      "7 of 170 4255b\n",
      "8 of 170 5222\n",
      "9 of 170 5216v\n",
      "10 of 170 5213b\n",
      "11 of 170 5620v\n",
      "12 of 170 5210l\n",
      "13 of 170 5217v\n",
      "14 of 170 5244v\n",
      "15 of 170 5262v\n",
      "16 of 170 5220v\n",
      "17 of 170 5218v\n",
      "18 of 170 4254b\n",
      "19 of 170 5211\n",
      "20 of 170 5260b\n",
      "21 of 170 5221v\n",
      "22 of 170 5387b\n",
      "23 of 170 5396b\n",
      "24 of 170 5393r\n",
      "25 of 170 5389r\n",
      "26 of 170 5257b\n",
      "27 of 170 5256\n",
      "28 of 170 5363_007\n",
      "29 of 170 5245v\n",
      "30 of 170 5363_003\n",
      "31 of 170 5235\n",
      "32 of 170 5238v\n",
      "33 of 170 5237v\n",
      "34 of 170 5253v\n",
      "35 of 170 5246\n",
      "36 of 170 5261v\n",
      "37 of 170 5234\n",
      "38 of 170 5254b\n",
      "39 of 170 5243\n",
      "40 of 170 5259v\n",
      "41 of 170 5239\n",
      "42 of 170 5241b\n",
      "43 of 170 5233\n",
      "44 of 170 5393t\n",
      "45 of 170 5231\n",
      "46 of 170 5394r\n",
      "47 of 170 5215b\n",
      "48 of 170 5249v\n",
      "49 of 170 5240\n",
      "50 of 170 5245\n",
      "51 of 170 5613\n",
      "52 of 170 5255\n",
      "53 of 170 5260\n",
      "54 of 170 5253\n",
      "55 of 170 5219\n",
      "56 of 170 5259b\n",
      "57 of 170 5613v\n",
      "58 of 170 5228\n",
      "59 of 170 5237t\n",
      "60 of 170 5240v\n",
      "61 of 170 5396t\n",
      "62 of 170 5244\n",
      "63 of 170 5226\n",
      "64 of 170 5263\n",
      "65 of 170 5250\n",
      "66 of 170 5263v\n",
      "67 of 170 5216\n",
      "68 of 170 5213v\n",
      "69 of 170 5363_004\n",
      "70 of 170 5212v\n",
      "71 of 170 4253b\n",
      "72 of 170 5227\n",
      "73 of 170 5256v\n",
      "74 of 170 5220\n",
      "75 of 170 5252\n",
      "76 of 170 5237b\n",
      "77 of 170 4242b\n",
      "78 of 170 5260v\n",
      "79 of 170 5215\n",
      "80 of 170 5259l\n",
      "81 of 170 5256b\n",
      "82 of 170 5263b\n",
      "83 of 170 5219v\n",
      "84 of 170 5620\n",
      "85 of 170 5559b\n",
      "86 of 170 5262\n",
      "87 of 170 5210v\n",
      "88 of 170 5248\n",
      "89 of 170 5225v\n",
      "90 of 170 5257v\n",
      "91 of 170 5394t\n",
      "92 of 170 5363_006\n",
      "93 of 170 5224v\n",
      "94 of 170 5227v\n",
      "95 of 170 5217\n",
      "96 of 170 5255b\n",
      "97 of 170 5228v\n",
      "98 of 170 5251\n",
      "99 of 170 5236v\n",
      "100 of 170 5239b\n",
      "101 of 170 5221\n",
      "102 of 170 5214v\n",
      "103 of 170 5210\n",
      "104 of 170 5363_009\n",
      "105 of 170 5230\n",
      "106 of 170 5363_008\n",
      "107 of 170 5210r\n",
      "108 of 170 5239v\n",
      "109 of 170 5238\n",
      "110 of 170 5249\n",
      "111 of 170 5223v\n",
      "112 of 170 5231v\n",
      "113 of 170 5614v\n",
      "114 of 170 5387r\n",
      "115 of 170 5230v\n",
      "116 of 170 5262b\n",
      "117 of 170 5241\n",
      "118 of 170 5388t\n",
      "119 of 170 5250v\n",
      "120 of 170 5248v\n",
      "121 of 170 4255r\n",
      "122 of 170 5242v\n",
      "123 of 170 5229\n",
      "124 of 170 5212\n",
      "125 of 170 5232v\n",
      "126 of 170 5246v\n",
      "127 of 170 5257\n",
      "128 of 170 5214b\n",
      "129 of 170 5255v\n",
      "130 of 170 5258v\n",
      "131 of 170 5214\n",
      "132 of 170 5387t\n",
      "133 of 170 5235v\n",
      "134 of 170 5614\n",
      "135 of 170 5226v\n",
      "136 of 170 5393b\n",
      "137 of 170 5237\n",
      "138 of 170 5254\n",
      "139 of 170 5210b\n",
      "140 of 170 5252v\n",
      "141 of 170 5215v\n",
      "142 of 170 5243v\n",
      "143 of 170 5247\n",
      "144 of 170 5363_005\n",
      "145 of 170 5254v\n",
      "146 of 170 5389b\n",
      "147 of 170 5363_002\n",
      "148 of 170 5229b\n",
      "149 of 170 5224\n",
      "150 of 170 5247v\n",
      "151 of 170 4240b\n",
      "152 of 170 5394b\n",
      "153 of 170 5258\n",
      "154 of 170 5388b\n",
      "155 of 170 3064b\n",
      "156 of 170 5223\n",
      "157 of 170 5222v\n",
      "158 of 170 4241b\n",
      "159 of 170 5229v\n",
      "160 of 170 5363_001\n",
      "161 of 170 5236\n",
      "162 of 170 5259\n",
      "163 of 170 5225\n",
      "164 of 170 5233v\n",
      "165 of 170 5218\n",
      "166 of 170 5241v\n",
      "167 of 170 5490_083\n",
      "168 of 170 5232\n",
      "169 of 170 3056b\n",
      "170 of 170 5211v\n"
     ]
    }
   ],
   "source": [
    "for i,nef in enumerate(diff):\n",
    "    print(i+1,'of',len(diff),nef)\n",
    "    filepath = f'{SOURCEDIR}{nef}.nef'\n",
    "    shutil.copy(filepath,DESTDIR)"
   ]
  },
  {
   "cell_type": "code",
   "execution_count": null,
   "id": "862fd78d-0ace-49ef-97f7-8e2d7fb67d81",
   "metadata": {},
   "outputs": [],
   "source": []
  }
 ],
 "metadata": {
  "kernelspec": {
   "display_name": "Python 3 (ipykernel)",
   "language": "python",
   "name": "python3"
  },
  "language_info": {
   "codemirror_mode": {
    "name": "ipython",
    "version": 3
   },
   "file_extension": ".py",
   "mimetype": "text/x-python",
   "name": "python",
   "nbconvert_exporter": "python",
   "pygments_lexer": "ipython3",
   "version": "3.10.4"
  }
 },
 "nbformat": 4,
 "nbformat_minor": 5
}
