{
 "cells": [
  {
   "cell_type": "code",
   "execution_count": 1,
   "id": "cd26c641-acbe-4e01-bf85-d1561d2d148b",
   "metadata": {},
   "outputs": [],
   "source": [
    "import pandas as pd\n",
    "import glob,os\n",
    "import shutil\n",
    "import re\n",
    "import warnings\n",
    "warnings.filterwarnings('ignore')"
   ]
  },
  {
   "cell_type": "code",
   "execution_count": 2,
   "id": "34358cbf-5c15-4721-815c-ba72c1cf9084",
   "metadata": {},
   "outputs": [],
   "source": [
    "smp = pd.read_pickle('db.pkl')"
   ]
  },
  {
   "cell_type": "code",
   "execution_count": 3,
   "id": "f20048ff",
   "metadata": {},
   "outputs": [],
   "source": [
    "smp['id'] = smp.PhotoID.apply(abs)"
   ]
  },
  {
   "cell_type": "code",
   "execution_count": 4,
   "id": "61fc0076-6342-44b5-87ef-a183cbae2ff6",
   "metadata": {},
   "outputs": [],
   "source": [
    "keepcols = [\n",
    "    'id',\n",
    "    'catalog',\n",
    "    'Manufacturer',\n",
    "    'Brand',\n",
    "    'Year',\n",
    "    'DateUncertain',\n",
    "    'imfiles_md5',\n",
    "    'sb'\n",
    "]"
   ]
  },
  {
   "cell_type": "code",
   "execution_count": 5,
   "id": "309ec522-b95b-414d-ae2e-c87efc4f8942",
   "metadata": {},
   "outputs": [],
   "source": [
    "smp = smp[keepcols]"
   ]
  },
  {
   "cell_type": "code",
   "execution_count": 6,
   "id": "a2801a81-bc54-4863-bd47-33f122ef4bb4",
   "metadata": {},
   "outputs": [],
   "source": [
    "smp.columns = ['ObjectNumber','CatalogNumber','Manufacturer','Brand','Year','DateUncertain','Images','IsSample']"
   ]
  },
  {
   "cell_type": "code",
   "execution_count": 7,
   "id": "7d60e7f4-318b-400f-b3c6-d08492b95bd5",
   "metadata": {},
   "outputs": [],
   "source": [
    "smp['CreditLine'] = 'Lens Media Lab Collection'"
   ]
  },
  {
   "cell_type": "code",
   "execution_count": 8,
   "id": "44a26dfd-6848-4117-9ce8-e3b95983434c",
   "metadata": {},
   "outputs": [],
   "source": [
    "smp['Classification'] = ['photographic paper sample' if smp.IsSample.loc[i]==True else 'photographic paper package' for i in smp.index]"
   ]
  },
  {
   "cell_type": "code",
   "execution_count": 9,
   "id": "59d7a2a7-2566-4954-8f41-7348c1008aab",
   "metadata": {},
   "outputs": [],
   "source": [
    "smp['Department'] = \"Lens Media Lab\""
   ]
  },
  {
   "cell_type": "code",
   "execution_count": 10,
   "id": "b38aae93-3b00-4248-9ef5-914bfc56f922",
   "metadata": {},
   "outputs": [],
   "source": [
    "smp['Institution'] = \"Institute for the Preservation of Cultural Heritage\""
   ]
  },
  {
   "cell_type": "code",
   "execution_count": 11,
   "id": "885e1d21-72ed-49c5-8a3e-bf3d9397799b",
   "metadata": {},
   "outputs": [],
   "source": [
    "smp['Date'] = [f'ca. {smp.Year.loc[i]}' if smp.DateUncertain.loc[i]==1 else str(smp.Year.loc[i]) for i in smp.index]"
   ]
  },
  {
   "cell_type": "code",
   "execution_count": 12,
   "id": "e48760a2-a810-424e-a8b7-2c70091ee47f",
   "metadata": {},
   "outputs": [],
   "source": [
    "smp['ObjectLabel'] = [f'{smp.Manufacturer.loc[i]} {smp.Brand.loc[i]} {smp.Date.loc[i]}' for i in smp.index]"
   ]
  },
  {
   "cell_type": "code",
   "execution_count": 13,
   "id": "dd502bfa-bc98-4999-ad90-98fc07866244",
   "metadata": {},
   "outputs": [],
   "source": [
    "smp['Attribution'] = \"Data provided about the Lens Media Lab Collection are public domain. Rights restrictions may apply to collection objects or images of those objects.\"\n",
    "smp['License'] = \"https://creativecommons.org/licenses/by/2.0/\""
   ]
  },
  {
   "cell_type": "code",
   "execution_count": 14,
   "id": "eb5d5d82-74ae-48a7-8a39-5b03d9db6c40",
   "metadata": {},
   "outputs": [],
   "source": [
    "del smp['DateUncertain']"
   ]
  },
  {
   "cell_type": "code",
   "execution_count": 15,
   "id": "13744703-95b5-4b67-ab66-c46a586d75aa",
   "metadata": {},
   "outputs": [],
   "source": [
    "del smp['IsSample']"
   ]
  },
  {
   "cell_type": "code",
   "execution_count": 16,
   "id": "2b597d4c-ee54-4b23-9305-b9809838f971",
   "metadata": {},
   "outputs": [],
   "source": [
    "del smp['Year']"
   ]
  },
  {
   "cell_type": "markdown",
   "id": "f225b1d4-b97e-40e8-9d5b-c69f0d8b3e70",
   "metadata": {},
   "source": [
    "# Object Images"
   ]
  },
  {
   "cell_type": "code",
   "execution_count": 17,
   "id": "8986be9a-f781-4a5e-b6b7-c8f9273c0ac2",
   "metadata": {},
   "outputs": [],
   "source": [
    "idx = smp.loc[smp.CatalogNumber=='4959'].index[0]"
   ]
  },
  {
   "cell_type": "code",
   "execution_count": 18,
   "id": "ce64f28f-9f42-42c1-9b72-cf0366142914",
   "metadata": {},
   "outputs": [],
   "source": [
    "smp.Images.loc[idx] = [item for item in smp.Images.loc[idx] if '4959c' not in item['filename']]"
   ]
  },
  {
   "cell_type": "code",
   "execution_count": 19,
   "id": "d594e745-bf6f-42bb-862f-64d97eccbe43",
   "metadata": {},
   "outputs": [],
   "source": [
    "def check_pattern(filenames):\n",
    "    # Regular expression to match the required filename pattern\n",
    "    pattern = re.compile(r'^(\\d+)([vbtlr])?\\.jpg$')\n",
    "\n",
    "    # Extract all matches\n",
    "    matches = [pattern.match(filename) for filename in filenames]\n",
    "    \n",
    "    if not all(matches):\n",
    "        return False  # If any filename doesn't match the pattern, return False\n",
    "\n",
    "    # Extract the base numeric sequences\n",
    "    numeric_sequences = {m.group(1) for m in matches if m}\n",
    "    \n",
    "    if len(numeric_sequences) != 1:\n",
    "        return False  # If there's more than one unique numeric sequence, return False\n",
    "    \n",
    "    # Check if there's at least one file with only the numeric sequence\n",
    "    base_numeric = numeric_sequences.pop()\n",
    "    if f'{base_numeric}.jpg' not in filenames:\n",
    "        return False\n",
    "\n",
    "    return True"
   ]
  },
  {
   "cell_type": "code",
   "execution_count": 20,
   "id": "d34b6495-149a-4168-9e35-9c6f11268c37",
   "metadata": {},
   "outputs": [],
   "source": [
    "def check_advanced_pattern(filenames):\n",
    "    # Regular expression to match the required filename patterns\n",
    "    # This includes patterns with and without an underscore followed by any lowercase letter\n",
    "    pattern = re.compile(r'^(\\d+)(?:_)?([a-z])?\\.jpg$')\n",
    "\n",
    "    # Extract all matches\n",
    "    matches = [pattern.match(filename) for filename in filenames]\n",
    "    \n",
    "    if not all(matches):\n",
    "        return False  # If any filename doesn't match the pattern, return False\n",
    "\n",
    "    # Extract the base numeric sequences\n",
    "    numeric_sequences = {m.group(1) for m in matches if m}\n",
    "    \n",
    "    if len(numeric_sequences) != 1:\n",
    "        return False  # If there's more than one unique numeric sequence, return False\n",
    "    \n",
    "    # Check if there's at least one file with only the numeric sequence\n",
    "    base_numeric = numeric_sequences.pop()\n",
    "    if f'{base_numeric}.jpg' not in filenames:\n",
    "        return False\n",
    "\n",
    "    # Count filenames with an underscore\n",
    "    underscore_count = sum('_' in filename for filename in filenames)\n",
    "    if underscore_count != 1:\n",
    "        return False  # Ensure there is exactly one filename with an underscore\n",
    "\n",
    "    return True"
   ]
  },
  {
   "cell_type": "code",
   "execution_count": 21,
   "id": "bfa9be27-3099-46e9-9dc4-21ab8561e6fc",
   "metadata": {},
   "outputs": [],
   "source": [
    "def process_normal_imdict(imdict):\n",
    "    f = imdict['filename']\n",
    "    fbase = f[:-4]\n",
    "    imdict['id'] = fbase\n",
    "\n",
    "    if fbase.isdigit():\n",
    "        imdict['label'] = 'recto'\n",
    "        imdict['rank'] = 1\n",
    "        imdict['object_thumbnail_flag'] = 1\n",
    "    else:\n",
    "        if 'b' in fbase:\n",
    "            imdict['label'] = 'bottom'\n",
    "            imdict['rank'] = 6\n",
    "            imdict['object_thumbnail_flag'] = 0\n",
    "        if 't' in fbase:\n",
    "            imdict['label'] = 'top'\n",
    "            imdict['rank'] = 5\n",
    "            imdict['object_thumbnail_flag'] = 0\n",
    "        if 'r' in fbase:\n",
    "            imdict['label'] = 'right'\n",
    "            imdict['rank'] = 4\n",
    "            imdict['object_thumbnail_flag'] = 0\n",
    "        if 'l' in fbase:\n",
    "            imdict['label'] = 'left'\n",
    "            imdict['rank'] = 3\n",
    "            imdict['object_thumbnail_flag'] = 0\n",
    "        if 'v' in fbase:\n",
    "            imdict['label'] = 'verso'\n",
    "            imdict['rank'] = 2\n",
    "            imdict['object_thumbnail_flag'] = 0\n",
    "\n",
    "    return imdict"
   ]
  },
  {
   "cell_type": "code",
   "execution_count": 22,
   "id": "676fe812-14de-47d5-aa42-adda5b628081",
   "metadata": {},
   "outputs": [],
   "source": [
    "def process_advanced_imdict(imdict):\n",
    "    f = imdict['filename']\n",
    "    fbase = f[:-4]\n",
    "    imdict['id'] = fbase\n",
    "\n",
    "    if '_' in fbase:\n",
    "        imdict['label'] = 'item package'\n",
    "        imdict['rank'] = 1\n",
    "        imdict['object_thumbnail_flag'] = 1\n",
    "    else:\n",
    "        if fbase.isdigit():\n",
    "            imdict['label'] = 'containing package recto'\n",
    "            imdict['rank'] = 2\n",
    "            imdict['object_thumbnail_flag'] = 0\n",
    "        if 'b' in fbase:\n",
    "            imdict['label'] = 'containing package bottom'\n",
    "            imdict['rank'] = 7\n",
    "            imdict['object_thumbnail_flag'] = 0\n",
    "        if 't' in fbase:\n",
    "            imdict['label'] = 'containing package top'\n",
    "            imdict['rank'] = 6\n",
    "            imdict['object_thumbnail_flag'] = 0\n",
    "        if 'r' in fbase:\n",
    "            imdict['label'] = 'containing package right'\n",
    "            imdict['rank'] = 5\n",
    "            imdict['object_thumbnail_flag'] = 0\n",
    "        if 'l' in fbase:\n",
    "            imdict['label'] = 'containing package left'\n",
    "            imdict['rank'] = 4\n",
    "            imdict['object_thumbnail_flag'] = 0\n",
    "        if 'v' in fbase:\n",
    "            imdict['label'] = 'containing package verso'\n",
    "            imdict['rank'] = 3\n",
    "            imdict['object_thumbnail_flag'] = 0\n",
    "\n",
    "    return imdict"
   ]
  },
  {
   "cell_type": "code",
   "execution_count": 23,
   "id": "157154bc-b435-4a50-a7a7-d6add0fb316c",
   "metadata": {},
   "outputs": [],
   "source": [
    "def process_3194(imdict):\n",
    "    f = imdict['filename']\n",
    "    fbase = f[:-4]\n",
    "    imdict['id'] = fbase\n",
    "\n",
    "    if '_001' in fbase:\n",
    "        imdict['label'] = 'recto'\n",
    "        imdict['rank'] = 1\n",
    "        imdict['object_thumbnail_flag'] = 1\n",
    "    elif '_002' in fbase:\n",
    "        imdict['label'] = 'verso'\n",
    "        imdict['rank'] = 2\n",
    "        imdict['object_thumbnail_flag'] = 0\n",
    "        \n",
    "    return imdict"
   ]
  },
  {
   "cell_type": "code",
   "execution_count": 24,
   "id": "d56ba09b-f7e8-4281-846c-f5c5b609e0dc",
   "metadata": {},
   "outputs": [],
   "source": [
    "def process_5363(imdict):\n",
    "    f = imdict['filename']\n",
    "    fbase = f[:-4]\n",
    "    imdict['id'] = fbase\n",
    "\n",
    "    if '_' in fbase:\n",
    "        if 'v' in fbase:\n",
    "            imdict['label'] = 'item verso'\n",
    "            imdict['rank'] = 2\n",
    "            imdict['object_thumbnail_flag'] = 0\n",
    "        else:\n",
    "            imdict['label'] = 'item recto'\n",
    "            imdict['rank'] = 1\n",
    "            imdict['object_thumbnail_flag'] = 1\n",
    "    else:\n",
    "        if fbase.isdigit():\n",
    "            imdict['label'] = 'containing package recto'\n",
    "            imdict['rank'] = 3\n",
    "            imdict['object_thumbnail_flag'] = 0\n",
    "        if 'b' in fbase:\n",
    "            imdict['label'] = 'containing package bottom'\n",
    "            imdict['rank'] = 5\n",
    "            imdict['object_thumbnail_flag'] = 0\n",
    "        if 'v' in fbase:\n",
    "            imdict['label'] = 'containing package verso'\n",
    "            imdict['rank'] = 4\n",
    "            imdict['object_thumbnail_flag'] = 0\n",
    "            \n",
    "    return imdict"
   ]
  },
  {
   "cell_type": "code",
   "execution_count": 25,
   "id": "b788f038-9dc9-450f-b206-75d8579bac4a",
   "metadata": {},
   "outputs": [],
   "source": [
    "def process_1747(imdict, rank=None):\n",
    "    f = imdict['filename']\n",
    "    fbase = f[:-4]\n",
    "    imdict['id'] = fbase\n",
    "\n",
    "    if fbase.isdigit():\n",
    "        imdict['label'] = 'package recto'\n",
    "        imdict['rank'] = 1\n",
    "        imdict['object_thumbnail_flag'] = 1\n",
    "    if 'v' in fbase and '_' not in fbase:\n",
    "        imdict['label'] = 'package verso'\n",
    "        imdict['rank'] = 2\n",
    "        imdict['object_thumbnail_flag'] = 0\n",
    "    if 'b' in fbase and '_' not in fbase:\n",
    "        imdict['label'] = 'package bottom'\n",
    "        imdict['rank'] = 3\n",
    "        imdict['object_thumbnail_flag'] = 0\n",
    "    if rank is not None:\n",
    "        if 'v' in fbase:\n",
    "            imdict['label'] = 'item verso'\n",
    "            imdict['rank'] = rank\n",
    "            imdict['object_thumbnail_flag'] = 0\n",
    "        else:\n",
    "            imdict['label'] = 'item recto'\n",
    "            imdict['rank'] = rank\n",
    "            imdict['object_thumbnail_flag'] = 0\n",
    "    \n",
    "    return imdict"
   ]
  },
  {
   "cell_type": "code",
   "execution_count": 26,
   "id": "626dd9bf-1e9d-4fba-a565-6eca8e78a240",
   "metadata": {},
   "outputs": [],
   "source": [
    "def process_487x(imdict):\n",
    "    f = imdict['filename']\n",
    "    fbase = f[:-4]\n",
    "    imdict['id'] = fbase\n",
    "\n",
    "    if fbase.isdigit():\n",
    "        imdict['label'] = 'package'\n",
    "        imdict['rank'] = 1\n",
    "        imdict['object_thumbnail_flag'] = 1\n",
    "    if '_a' in fbase:\n",
    "        imdict['label'] = 'item'\n",
    "        imdict['rank'] = 2\n",
    "        imdict['object_thumbnail_flag'] = 0\n",
    "    if '_b' in fbase:\n",
    "        imdict['label'] = 'item'\n",
    "        imdict['rank'] = 3\n",
    "        imdict['object_thumbnail_flag'] = 0\n",
    "        \n",
    "    return imdict"
   ]
  },
  {
   "cell_type": "code",
   "execution_count": 27,
   "id": "af8cb9c1-4eb0-4e5f-9cd2-be2eb0b0523a",
   "metadata": {},
   "outputs": [],
   "source": [
    "def process_images_entry(entry):\n",
    "    if isinstance(entry,dict):\n",
    "        entry['id'] = entry['filename'][:-4]\n",
    "        entry['label'] = 'sample recto'\n",
    "        entry['rank'] = 1\n",
    "        entry['object_thumbnail_flag'] = 1\n",
    "\n",
    "        return [entry]\n",
    "    elif isinstance(entry,list):\n",
    "        ls = [item['filename'].lower() for item in entry]\n",
    "        if check_pattern(ls):\n",
    "            newl = []\n",
    "            for item in entry:\n",
    "                newl.append(process_normal_imdict(item))\n",
    "            return newl\n",
    "        elif check_advanced_pattern(ls):\n",
    "            newl = []\n",
    "            for item in entry:\n",
    "                newl.append(process_advanced_imdict(item))\n",
    "            return newl\n",
    "        else:\n",
    "            if all(['3194_' in item for item in ls]):\n",
    "                newl = []\n",
    "                for item in entry:\n",
    "                    newl.append(process_3194(item))\n",
    "                return newl\n",
    "            elif all(['5363' in item for item in ls]) or all(['4901' in item for item in ls]+[len(ls)==4]):\n",
    "                newl = []\n",
    "                for item in entry:\n",
    "                    newl.append(process_5363(item))\n",
    "                return newl\n",
    "            elif all(['1747' in item for item in ls]) or all(['4901' in item for item in ls]+[len(ls) > 4]):\n",
    "                newl = []\n",
    "                rank = 3\n",
    "                for item in entry:\n",
    "                    if '_' in item['filename']:\n",
    "                        rank+=1\n",
    "                        newl.append(process_1747(item, rank=rank))\n",
    "                    else:    \n",
    "                        newl.append(process_1747(item))\n",
    "                return newl\n",
    "            else:\n",
    "                newl = []\n",
    "                for item in entry:\n",
    "                    newl.append(process_487x(item))\n",
    "                return newl"
   ]
  },
  {
   "cell_type": "code",
   "execution_count": 28,
   "id": "eb27cf91-7218-41f2-bca8-abf48ff13a5b",
   "metadata": {},
   "outputs": [],
   "source": [
    "smp['ImageAssets'] = [process_images_entry(item) for item in smp.Images]"
   ]
  },
  {
   "cell_type": "code",
   "execution_count": 29,
   "id": "f3c76664",
   "metadata": {},
   "outputs": [],
   "source": [
    "fs = set()\n",
    "\n",
    "for i in smp.index:\n",
    "    image_assets = smp.ImageAssets.loc[i]\n",
    "    assert isinstance(image_assets, list)\n",
    "    \n",
    "    for j,image_asset in enumerate(image_assets):\n",
    "        f = image_asset['filename']\n",
    "        \n",
    "        # If the filename is already in the set, increment it\n",
    "        original_filename, ext = os.path.splitext(f)\n",
    "        new_filename = f\n",
    "        counter = 0\n",
    "        while new_filename in fs:\n",
    "            counter += 1\n",
    "            new_filename = f\"{original_filename}_copy{counter}{ext}\"\n",
    "        \n",
    "        # Add the new (or original) filename to the set\n",
    "        fs.add(new_filename)\n",
    "        \n",
    "        # Update the record in the DataFrame (or your data structure)\n",
    "        image_asset['filename'] = new_filename\n",
    "        image_assets[j] = image_asset\n",
    "        smp.ImageAssets.loc[i] = image_assets\n",
    "        \n",
    "        # Save a copy of the file with the incremented filename\n",
    "        original_path = os.path.join('/Users/damoncrockett/lml2lux/img', f)\n",
    "        new_path = os.path.join('/Users/damoncrockett/lml2lux/img', new_filename)\n",
    "        copy_path = os.path.join('/Users/damoncrockett/lml2lux/img_copies', new_filename)\n",
    "        \n",
    "        if not os.path.isfile(new_path):\n",
    "            shutil.copy(original_path, copy_path)"
   ]
  },
  {
   "cell_type": "code",
   "execution_count": 30,
   "id": "fa2dd096-662d-4efe-b382-322dc390a4f4",
   "metadata": {},
   "outputs": [],
   "source": [
    "del smp['Images']"
   ]
  },
  {
   "cell_type": "code",
   "execution_count": 31,
   "id": "dc541464-255c-458a-b59f-8fcbee97e70a",
   "metadata": {},
   "outputs": [],
   "source": [
    "d = smp.to_dict('records')"
   ]
  },
  {
   "cell_type": "code",
   "execution_count": 32,
   "id": "318d907e-3b21-498f-a140-618ba78a517e",
   "metadata": {},
   "outputs": [],
   "source": [
    "import json"
   ]
  },
  {
   "cell_type": "code",
   "execution_count": 33,
   "id": "ae149e21-57fc-476f-8360-4a527518bb5d",
   "metadata": {},
   "outputs": [],
   "source": [
    "with open('lml_w_copies.jsonl', 'w') as file:\n",
    "    for item in d:\n",
    "        json.dump(item, file)\n",
    "        file.write('\\n')"
   ]
  }
 ],
 "metadata": {
  "kernelspec": {
   "display_name": "Python 3 (ipykernel)",
   "language": "python",
   "name": "python3"
  },
  "language_info": {
   "codemirror_mode": {
    "name": "ipython",
    "version": 3
   },
   "file_extension": ".py",
   "mimetype": "text/x-python",
   "name": "python",
   "nbconvert_exporter": "python",
   "pygments_lexer": "ipython3",
   "version": "3.10.4"
  }
 },
 "nbformat": 4,
 "nbformat_minor": 5
}
