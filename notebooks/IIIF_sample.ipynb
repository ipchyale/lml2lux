{
 "cells": [
  {
   "cell_type": "code",
   "execution_count": 9,
   "id": "d03f7a07",
   "metadata": {},
   "outputs": [],
   "source": [
    "import json"
   ]
  },
  {
   "cell_type": "code",
   "execution_count": 10,
   "id": "a9aaa902",
   "metadata": {},
   "outputs": [],
   "source": [
    "l = []"
   ]
  },
  {
   "cell_type": "code",
   "execution_count": 11,
   "id": "212d9bc0",
   "metadata": {},
   "outputs": [],
   "source": [
    "d1 = {}\n",
    "d2 = {}\n",
    "d3 = {}"
   ]
  },
  {
   "cell_type": "code",
   "execution_count": 12,
   "id": "81dc531b",
   "metadata": {},
   "outputs": [],
   "source": [
    "d1['Object Number'] = \"10\"\n",
    "d1['Manufacturer'] = \"Kodak\"\n",
    "d1['Brand'] = \"Vitava Athena\"\n",
    "d1['Date'] = \"1943\"\n",
    "d1['Creditline'] = \"Lens Media Lab Collection\"\n",
    "d1['Classification'] = \"photographic paper package\"\n",
    "d1['Department'] = \"Lens Media Lab\"\n",
    "d1['Institution'] = \"Institute for the Preservation of Cultural Heritage\"\n",
    "d1['Object URL'] = \"https://s3.amazonaws.com/paperbase.xyz/packages/10.jpg\"\n",
    "d1['S3 URI'] = \"s3://paperbase.xyz/packages/10.jpg\""
   ]
  },
  {
   "cell_type": "code",
   "execution_count": 13,
   "id": "188df366",
   "metadata": {},
   "outputs": [],
   "source": [
    "d2['Object Number'] = \"100\"\n",
    "d2['Manufacturer'] = \"Kodak\"\n",
    "d2['Brand'] = \"Velvet Velox\"\n",
    "d2['Date'] = \"1911\"\n",
    "d2['Creditline'] = \"Lens Media Lab Collection\"\n",
    "d2['Classification'] = \"photographic paper package\"\n",
    "d2['Department'] = \"Lens Media Lab\"\n",
    "d2['Institution'] = \"Institute for the Preservation of Cultural Heritage\"\n",
    "d2['Object URL'] = \"https://s3.amazonaws.com/paperbase.xyz/packages/100.jpg\"\n",
    "d2['S3 URI'] = \"s3://paperbase.xyz/packages/100.jpg\""
   ]
  },
  {
   "cell_type": "code",
   "execution_count": 14,
   "id": "057ba22d",
   "metadata": {},
   "outputs": [],
   "source": [
    "d3['Object Number'] = \"1000\"\n",
    "d3['Manufacturer'] = \"Darko\"\n",
    "d3['Brand'] = \"[Indeterminate]\"\n",
    "d3['Date'] = \"1918\"\n",
    "d3['Creditline'] = \"Lens Media Lab Collection\"\n",
    "d3['Classification'] = \"photographic paper package\"\n",
    "d3['Department'] = \"Lens Media Lab\"\n",
    "d3['Institution'] = \"Institute for the Preservation of Cultural Heritage\"\n",
    "d3['Object URL'] = \"https://s3.amazonaws.com/paperbase.xyz/packages/1000.jpg\"\n",
    "d3['S3 URI'] = \"s3://paperbase.xyz/packages/1000.jpg\""
   ]
  },
  {
   "cell_type": "code",
   "execution_count": 15,
   "id": "da63966e",
   "metadata": {},
   "outputs": [],
   "source": [
    "data = [\n",
    "    d1,\n",
    "    d2,\n",
    "    d3\n",
    "]\n",
    "\n",
    "file_name = 'lmlSample.jsonl'\n",
    "\n",
    "with open(file_name, 'w') as file:\n",
    "    for item in data:\n",
    "        json_line = json.dumps(item)\n",
    "        file.write(json_line + '\\n')"
   ]
  },
  {
   "cell_type": "code",
   "execution_count": null,
   "id": "02601a44",
   "metadata": {},
   "outputs": [],
   "source": []
  }
 ],
 "metadata": {
  "kernelspec": {
   "display_name": "Python 3 (ipykernel)",
   "language": "python",
   "name": "python3"
  },
  "language_info": {
   "codemirror_mode": {
    "name": "ipython",
    "version": 3
   },
   "file_extension": ".py",
   "mimetype": "text/x-python",
   "name": "python",
   "nbconvert_exporter": "python",
   "pygments_lexer": "ipython3",
   "version": "3.10.4"
  }
 },
 "nbformat": 4,
 "nbformat_minor": 5
}
