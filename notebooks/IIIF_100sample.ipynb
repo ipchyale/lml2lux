{
 "cells": [
  {
   "cell_type": "code",
   "execution_count": 1,
   "id": "cd26c641-acbe-4e01-bf85-d1561d2d148b",
   "metadata": {},
   "outputs": [],
   "source": [
    "import pandas as pd"
   ]
  },
  {
   "cell_type": "code",
   "execution_count": 2,
   "id": "c8d00c1a-882a-47a6-ba4a-03f0a1b659e9",
   "metadata": {},
   "outputs": [],
   "source": [
    "db = pd.read_csv(\"/Users/damoncrockett/Dropbox/lml/export_06_18_24.csv\", encoding='latin-1')"
   ]
  },
  {
   "cell_type": "code",
   "execution_count": 3,
   "id": "577db068-370e-4f10-b3ee-39d7350b3cc4",
   "metadata": {},
   "outputs": [],
   "source": [
    "db = db[['Catalog Number','Secondary Catalog Number','Manufacturer','Brand','Year','Format','DateUncertain']]\n",
    "db = db.fillna('')\n",
    "db['catalog'] = db['Catalog Number'].apply(str) + db['Secondary Catalog Number'].apply(lambda x: x.lower())"
   ]
  },
  {
   "cell_type": "code",
   "execution_count": 4,
   "id": "0bfde03e-6e1d-4c1a-8324-469a9ab10eec",
   "metadata": {},
   "outputs": [],
   "source": [
    "db = db[['catalog','Manufacturer','Brand','Year','Format','DateUncertain']]"
   ]
  },
  {
   "cell_type": "code",
   "execution_count": 5,
   "id": "78f616da-8cbe-4afc-b766-7f6b5e8c0bb4",
   "metadata": {},
   "outputs": [],
   "source": [
    "db = db.loc[db.catalog!='2523']"
   ]
  },
  {
   "cell_type": "code",
   "execution_count": 6,
   "id": "2b16d5ec-5916-4cdc-9189-6d1ef14918bb",
   "metadata": {},
   "outputs": [],
   "source": [
    "db = db.reset_index(drop=True)"
   ]
  },
  {
   "cell_type": "markdown",
   "id": "77a45745-340c-4d79-91e1-0333efc86e8f",
   "metadata": {},
   "source": [
    "# img"
   ]
  },
  {
   "cell_type": "code",
   "execution_count": 7,
   "id": "7aa62c17-e7bd-4cf8-a440-7c18a9ffd3d7",
   "metadata": {},
   "outputs": [],
   "source": [
    "import glob,os"
   ]
  },
  {
   "cell_type": "code",
   "execution_count": 8,
   "id": "a6f8dbb7-879b-40ee-aec1-778034fb2e7e",
   "metadata": {},
   "outputs": [],
   "source": [
    "pkgs = glob.glob(os.path.join(\"/Users/damoncrockett/paperbase/src/assets/img/packages/\",\"*.jpg\"))\n",
    "sbs = glob.glob(os.path.join(\"/Users/damoncrockett/paperbase/src/assets/img/samplebooks/\",\"*.jpeg\"))"
   ]
  },
  {
   "cell_type": "code",
   "execution_count": 9,
   "id": "d4583a4d-5708-4ed5-a7dd-11907945e68f",
   "metadata": {},
   "outputs": [],
   "source": [
    "pf = pd.DataFrame({\"localpath\":pkgs})\n",
    "sf = pd.DataFrame({\"localpath\":sbs})"
   ]
  },
  {
   "cell_type": "code",
   "execution_count": 10,
   "id": "59d666c1-aa89-432a-8616-b804e8904f8a",
   "metadata": {},
   "outputs": [],
   "source": [
    "import re\n",
    "\n",
    "def process_string(input_string):\n",
    "    # Check if the string contains an underscore\n",
    "    if \"_\" in input_string:\n",
    "        return None\n",
    "    \n",
    "    # Check for any letters in the string\n",
    "    if re.search(\"[a-zA-Z]\", input_string):\n",
    "        # Separate numbers from letters\n",
    "        numbers = re.sub(\"[^0-9]\", \"\", input_string)\n",
    "        letters = re.sub(\"[^a-zA-Z]\", \"\", input_string)\n",
    "        return [numbers, letters]\n",
    "    \n",
    "    # Return the input string if there are no letters (only numbers)\n",
    "    return [input_string]"
   ]
  },
  {
   "cell_type": "code",
   "execution_count": 11,
   "id": "e9118d79-592b-488a-b3b0-99f5bdb3433b",
   "metadata": {},
   "outputs": [],
   "source": [
    "procstr = [process_string(os.path.basename(item)[:-4]) for item in pf.localpath]"
   ]
  },
  {
   "cell_type": "code",
   "execution_count": 12,
   "id": "3b95f66a-254b-4e54-95fe-2c979bf6b4c2",
   "metadata": {},
   "outputs": [],
   "source": [
    "pf['procstr'] = procstr"
   ]
  },
  {
   "cell_type": "code",
   "execution_count": 13,
   "id": "0136610c-7aaf-4f43-a513-fc2b07696ff4",
   "metadata": {},
   "outputs": [],
   "source": [
    "pf['catalog'] = [item[0] if item is not None else item for item in pf.procstr]"
   ]
  },
  {
   "cell_type": "code",
   "execution_count": 14,
   "id": "557fe5f7-67ec-4d3c-a777-69fd4d2b7fa0",
   "metadata": {},
   "outputs": [],
   "source": [
    "pf = pf.loc[pf.procstr.notnull()]"
   ]
  },
  {
   "cell_type": "code",
   "execution_count": 15,
   "id": "da24d49c-81c2-4447-9e92-96bd220b5698",
   "metadata": {},
   "outputs": [],
   "source": [
    "pf = pf.groupby('catalog')['localpath'].agg(list).reset_index()"
   ]
  },
  {
   "cell_type": "code",
   "execution_count": 16,
   "id": "7015a3ed-59b3-4136-ab32-8dbdcfb14507",
   "metadata": {},
   "outputs": [],
   "source": [
    "#smp = pf.sample(n=100)"
   ]
  },
  {
   "cell_type": "code",
   "execution_count": 17,
   "id": "b7d81bf9-8e0f-4d2a-9c95-7603e7e3ab3a",
   "metadata": {},
   "outputs": [],
   "source": [
    "tmp = pd.read_pickle('smp.pkl')"
   ]
  },
  {
   "cell_type": "code",
   "execution_count": 20,
   "id": "c91e1d94-25c5-4a23-a0a3-5dcd0571d4f8",
   "metadata": {},
   "outputs": [],
   "source": [
    "cats = tmp.catalog\n",
    "smp = pf.loc[pf.catalog.isin(cats)]"
   ]
  },
  {
   "cell_type": "code",
   "execution_count": 21,
   "id": "898f6325-95c7-4471-bce7-7c24d3380f25",
   "metadata": {},
   "outputs": [],
   "source": [
    "smp =smp.join(db.set_index('catalog'),'catalog')"
   ]
  },
  {
   "cell_type": "code",
   "execution_count": 22,
   "id": "738973e3-415a-4bb2-8b22-359ebf735a82",
   "metadata": {},
   "outputs": [],
   "source": [
    "#smp.to_pickle('smp.pkl')"
   ]
  },
  {
   "cell_type": "code",
   "execution_count": 23,
   "id": "217d0d98-cc76-45ef-a8ff-08d03e7dac07",
   "metadata": {},
   "outputs": [],
   "source": [
    "# try:\n",
    "#     os.mkdir(\"/Users/damoncrockett/lml2lux/iiif_smp/\")\n",
    "# except Exception as e:\n",
    "#     print(e)"
   ]
  },
  {
   "cell_type": "code",
   "execution_count": 24,
   "id": "dc1ceb12-1cc9-4a35-a38c-0ad537c53220",
   "metadata": {},
   "outputs": [],
   "source": [
    "#COPYDIR = \"/Users/damoncrockett/lml2lux/iiif_smp/\""
   ]
  },
  {
   "cell_type": "code",
   "execution_count": 25,
   "id": "f42d4060-dd32-4e8d-85e2-b601eb6f15bd",
   "metadata": {},
   "outputs": [],
   "source": [
    "#allimg = [item for sublist in smp.localpath for item in sublist]"
   ]
  },
  {
   "cell_type": "code",
   "execution_count": 26,
   "id": "a9fad49a-6490-4510-ae05-948b14f82913",
   "metadata": {},
   "outputs": [],
   "source": [
    "#import shutil"
   ]
  },
  {
   "cell_type": "code",
   "execution_count": 27,
   "id": "fb53ba52-082c-4a15-aeee-4b8712eab586",
   "metadata": {},
   "outputs": [],
   "source": [
    "# for img in allimg:\n",
    "#     shutil.copy(img,COPYDIR)"
   ]
  },
  {
   "cell_type": "code",
   "execution_count": 29,
   "id": "c5694831-c6b1-4e84-887d-59f782c7092a",
   "metadata": {},
   "outputs": [],
   "source": [
    "smp.columns = ['ObjectNumber','ImagePaths','Manufacturer','Brand','Year','Format','DateUncertain']"
   ]
  },
  {
   "cell_type": "code",
   "execution_count": 30,
   "id": "7d60e7f4-318b-400f-b3c6-d08492b95bd5",
   "metadata": {},
   "outputs": [],
   "source": [
    "smp['CreditLine'] = 'Lens Media Lab Collection'"
   ]
  },
  {
   "cell_type": "code",
   "execution_count": 31,
   "id": "44a26dfd-6848-4117-9ce8-e3b95983434c",
   "metadata": {},
   "outputs": [],
   "source": [
    "smp['Classification'] = \"photographic paper package\""
   ]
  },
  {
   "cell_type": "code",
   "execution_count": 32,
   "id": "59d7a2a7-2566-4954-8f41-7348c1008aab",
   "metadata": {},
   "outputs": [],
   "source": [
    "smp['Department'] = \"Lens Media Lab\""
   ]
  },
  {
   "cell_type": "code",
   "execution_count": 33,
   "id": "b38aae93-3b00-4248-9ef5-914bfc56f922",
   "metadata": {},
   "outputs": [],
   "source": [
    "smp['Institution'] = \"Institute for the Preservation of Cultural Heritage\""
   ]
  },
  {
   "cell_type": "code",
   "execution_count": 34,
   "id": "885e1d21-72ed-49c5-8a3e-bf3d9397799b",
   "metadata": {},
   "outputs": [],
   "source": [
    "smp['Date'] = [f'ca. {smp.Year.loc[i]}' if smp.DateUncertain.loc[i]==1 else str(smp.Year.loc[i]) for i in smp.index]"
   ]
  },
  {
   "cell_type": "code",
   "execution_count": 35,
   "id": "e48760a2-a810-424e-a8b7-2c70091ee47f",
   "metadata": {},
   "outputs": [],
   "source": [
    "smp['ObjectLabel'] = [f'{smp.Manufacturer.loc[i]} {smp.Brand.loc[i]} {smp.Date.loc[i]}' for i in smp.index]"
   ]
  },
  {
   "cell_type": "code",
   "execution_count": 36,
   "id": "e45a8bc0-0832-4d4e-a342-ae99980803cf",
   "metadata": {},
   "outputs": [],
   "source": [
    "del smp['Format']"
   ]
  },
  {
   "cell_type": "code",
   "execution_count": 37,
   "id": "eb5d5d82-74ae-48a7-8a39-5b03d9db6c40",
   "metadata": {},
   "outputs": [],
   "source": [
    "del smp['DateUncertain']"
   ]
  },
  {
   "cell_type": "code",
   "execution_count": 38,
   "id": "c4eb6a5c-5932-4fd2-bb1d-56da67a09f5d",
   "metadata": {},
   "outputs": [],
   "source": [
    "def get_image_object(p):\n",
    "    imgid = p[:-4]\n",
    "    imgfile = p\n",
    "    ps = process_string(imgid)\n",
    "    if len(ps)==1:\n",
    "        imglabel = \"recto\"\n",
    "        imgrank = \"1\"\n",
    "    elif len(ps)==2:\n",
    "        v = ps[1]\n",
    "        if v == 'v':\n",
    "            imglabel = 'verso'\n",
    "            imgrank = \"2\"\n",
    "        elif v == 'l':\n",
    "            imglabel = 'left'\n",
    "            imgrank = \"3\"\n",
    "        elif v == 'r':\n",
    "            imglabel = 'right'\n",
    "            imgrank = \"4\"\n",
    "        elif v == 't':\n",
    "            imglabel = 'top'\n",
    "            imgrank = \"5\"\n",
    "        elif v == 'b':\n",
    "            imglabel = 'bottom'\n",
    "            imgrank = \"0\"\n",
    "        else:\n",
    "            print(v)\n",
    "\n",
    "    o = {}\n",
    "    o['id'] = imgid\n",
    "    o['image_filename'] = imgfile\n",
    "    o['image_label'] = imglabel\n",
    "    o['rank'] = imgrank\n",
    "    o['object_thumbnail_flag'] = 1 if imgrank==1 else 0\n",
    "    o['attribution'] = \"Data provided about the Lens Media Lab Collection are public domain. Rights restrictions may apply to collection objects or images of those objects.\"\n",
    "    o['license'] = \"https://creativecommons.org/licenses/by/2.0/\"\n",
    "\n",
    "    return o"
   ]
  },
  {
   "cell_type": "code",
   "execution_count": 39,
   "id": "eb27cf91-7218-41f2-bca8-abf48ff13a5b",
   "metadata": {},
   "outputs": [],
   "source": [
    "smp['ImageAssets'] = [[get_image_object(os.path.basename(i)) for i in item] for item in smp.ImagePaths]"
   ]
  },
  {
   "cell_type": "code",
   "execution_count": 43,
   "id": "fa2dd096-662d-4efe-b382-322dc390a4f4",
   "metadata": {},
   "outputs": [],
   "source": [
    "del smp['ImagePaths']"
   ]
  },
  {
   "cell_type": "code",
   "execution_count": 44,
   "id": "587a9756-7394-44fa-915b-9485b39af074",
   "metadata": {},
   "outputs": [],
   "source": [
    "smp = smp.reset_index(drop=True)"
   ]
  },
  {
   "cell_type": "code",
   "execution_count": 53,
   "id": "e88315c4-e382-4534-8b7b-3da46b7303e0",
   "metadata": {},
   "outputs": [],
   "source": [
    "del smp['Year']"
   ]
  },
  {
   "cell_type": "code",
   "execution_count": 54,
   "id": "dc541464-255c-458a-b59f-8fcbee97e70a",
   "metadata": {},
   "outputs": [],
   "source": [
    "d = smp.to_dict('records')"
   ]
  },
  {
   "cell_type": "code",
   "execution_count": 55,
   "id": "318d907e-3b21-498f-a140-618ba78a517e",
   "metadata": {},
   "outputs": [],
   "source": [
    "import json"
   ]
  },
  {
   "cell_type": "code",
   "execution_count": 56,
   "id": "ae149e21-57fc-476f-8360-4a527518bb5d",
   "metadata": {},
   "outputs": [],
   "source": [
    "with open('lml_100sample.jsonl', 'w') as file:\n",
    "    for item in d:\n",
    "        json.dump(item, file)\n",
    "        file.write('\\n')"
   ]
  },
  {
   "cell_type": "code",
   "execution_count": null,
   "id": "068d8d6a-e793-4f55-8634-6aad934d07b8",
   "metadata": {
    "scrolled": true
   },
   "outputs": [],
   "source": []
  },
  {
   "cell_type": "code",
   "execution_count": null,
   "id": "d584cc79-4701-4cc0-9cc7-9cda5f8e64c2",
   "metadata": {},
   "outputs": [],
   "source": []
  }
 ],
 "metadata": {
  "kernelspec": {
   "display_name": "Python 3 (ipykernel)",
   "language": "python",
   "name": "python3"
  },
  "language_info": {
   "codemirror_mode": {
    "name": "ipython",
    "version": 3
   },
   "file_extension": ".py",
   "mimetype": "text/x-python",
   "name": "python",
   "nbconvert_exporter": "python",
   "pygments_lexer": "ipython3",
   "version": "3.10.4"
  }
 },
 "nbformat": 4,
 "nbformat_minor": 5
}
