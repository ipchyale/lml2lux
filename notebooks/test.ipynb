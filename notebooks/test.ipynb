{
 "cells": [
  {
   "cell_type": "code",
   "execution_count": 14,
   "id": "c58fd8b4-98d4-451d-a011-6850d4f20dff",
   "metadata": {},
   "outputs": [],
   "source": [
    "from cromulent import model, vocab\n",
    "import json"
   ]
  },
  {
   "cell_type": "code",
   "execution_count": 15,
   "id": "ec70496a-18ef-4248-8000-f8417c68ffec",
   "metadata": {},
   "outputs": [],
   "source": [
    "vocab.add_linked_art_boundary_check()"
   ]
  },
  {
   "cell_type": "code",
   "execution_count": 16,
   "id": "4b521acc-bdb1-496b-aee2-7b04689393ec",
   "metadata": {},
   "outputs": [],
   "source": [
    "paper = model.HumanMadeObject(ident=f'https://paperbase.xyz/records/foo', label='foo')\n",
    "\n",
    "iiif_manifest_url = f'https://manifests.collections.yale.edu/lml/obj/foo'\n",
    "\n",
    "iiif_manifest_ling = model.LinguisticObject(label=f'IIIF v3 manifest for foo')\n",
    "\n",
    "iiif_manifest_dig = model.DigitalObject(label=f'IIIF v3 manifest for foo', format='application/ld+json')\n",
    "iiif_manifest_dig.conforms_to = model.InformationObject(ident='http://iiif.io/api/presentation/3/context.json')\n",
    "iiif_manifest_dig.access_point = model.DigitalObject(ident=iiif_manifest_url)\n",
    "iiif_manifest_dig.identified_by = model.Name(content=f'IIIF v3 manifest for foo')\n",
    "\n",
    "iiif_manifest_ling.digitally_carried_by = iiif_manifest_dig\n",
    "paper.subject_of = iiif_manifest_ling"
   ]
  },
  {
   "cell_type": "code",
   "execution_count": 17,
   "id": "60314beb-2c0d-4715-be72-65b688ebec31",
   "metadata": {},
   "outputs": [],
   "source": [
    "js = model.factory.toJSON(paper)"
   ]
  },
  {
   "cell_type": "code",
   "execution_count": 18,
   "id": "8c0d8616-1c4b-47c9-8ee2-8e8515651096",
   "metadata": {},
   "outputs": [],
   "source": [
    "rec = json.dumps(js)"
   ]
  },
  {
   "cell_type": "code",
   "execution_count": 19,
   "id": "44f240bb-b3e1-44c4-a0fa-78b475c1889e",
   "metadata": {},
   "outputs": [
    {
     "data": {
      "text/plain": [
       "'{\"@context\": \"https://linked.art/ns/v1/linked-art.json\", \"id\": \"https://paperbase.xyz/records/foo\", \"type\": \"HumanMadeObject\", \"_label\": \"foo\", \"subject_of\": [{\"id\": \"http://lod.example.org/museum/LinguisticObject/1\", \"type\": \"LinguisticObject\", \"_label\": \"IIIF v3 manifest for foo\"}]}'"
      ]
     },
     "execution_count": 19,
     "metadata": {},
     "output_type": "execute_result"
    }
   ],
   "source": [
    "rec"
   ]
  },
  {
   "cell_type": "code",
   "execution_count": null,
   "id": "aa08907f-30ce-4e13-b12a-1ac4bb145e3f",
   "metadata": {},
   "outputs": [],
   "source": []
  }
 ],
 "metadata": {
  "kernelspec": {
   "display_name": "Python 3 (ipykernel)",
   "language": "python",
   "name": "python3"
  },
  "language_info": {
   "codemirror_mode": {
    "name": "ipython",
    "version": 3
   },
   "file_extension": ".py",
   "mimetype": "text/x-python",
   "name": "python",
   "nbconvert_exporter": "python",
   "pygments_lexer": "ipython3",
   "version": "3.10.4"
  }
 },
 "nbformat": 4,
 "nbformat_minor": 5
}
