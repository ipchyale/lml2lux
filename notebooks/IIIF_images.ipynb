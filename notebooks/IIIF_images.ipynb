{
 "cells": [
  {
   "cell_type": "code",
   "execution_count": 63,
   "id": "cd26c641-acbe-4e01-bf85-d1561d2d148b",
   "metadata": {},
   "outputs": [],
   "source": [
    "import pandas as pd\n",
    "import glob,os\n",
    "import re\n",
    "import warnings\n",
    "warnings.filterwarnings('ignore')"
   ]
  },
  {
   "cell_type": "code",
   "execution_count": 64,
   "id": "c8d00c1a-882a-47a6-ba4a-03f0a1b659e9",
   "metadata": {},
   "outputs": [],
   "source": [
    "db = pd.read_csv(\"/Users/damoncrockett/Dropbox/lml/export_07_02_24.csv\", encoding='latin-1')"
   ]
  },
  {
   "cell_type": "code",
   "execution_count": 65,
   "id": "577db068-370e-4f10-b3ee-39d7350b3cc4",
   "metadata": {},
   "outputs": [],
   "source": [
    "db = db.fillna('')"
   ]
  },
  {
   "cell_type": "code",
   "execution_count": 70,
   "id": "645277c2-9db2-488e-bfae-e7578c8d8140",
   "metadata": {},
   "outputs": [
    {
     "data": {
      "text/html": [
       "<div>\n",
       "<style scoped>\n",
       "    .dataframe tbody tr th:only-of-type {\n",
       "        vertical-align: middle;\n",
       "    }\n",
       "\n",
       "    .dataframe tbody tr th {\n",
       "        vertical-align: top;\n",
       "    }\n",
       "\n",
       "    .dataframe thead th {\n",
       "        text-align: right;\n",
       "    }\n",
       "</style>\n",
       "<table border=\"1\" class=\"dataframe\">\n",
       "  <thead>\n",
       "    <tr style=\"text-align: right;\">\n",
       "      <th></th>\n",
       "      <th>PhotoID</th>\n",
       "      <th>Year</th>\n",
       "      <th>DateUncertain</th>\n",
       "      <th>Catalog Number</th>\n",
       "      <th>Secondary Catalog Number</th>\n",
       "      <th>Manufacturer</th>\n",
       "      <th>Brand</th>\n",
       "      <th>Format</th>\n",
       "      <th>Texture2</th>\n",
       "      <th>Reflectance2</th>\n",
       "      <th>...</th>\n",
       "      <th>LocationBox</th>\n",
       "      <th>LocationBag</th>\n",
       "      <th>Exposure</th>\n",
       "      <th>BackprintingPrimary</th>\n",
       "      <th>Postcards</th>\n",
       "      <th>Toner</th>\n",
       "      <th>Resin_coated?</th>\n",
       "      <th>ProcessName</th>\n",
       "      <th>Link</th>\n",
       "      <th>AATA_ID</th>\n",
       "    </tr>\n",
       "  </thead>\n",
       "  <tbody>\n",
       "    <tr>\n",
       "      <th>187</th>\n",
       "      <td>1416917868</td>\n",
       "      <td>1916</td>\n",
       "      <td>1</td>\n",
       "      <td>4876</td>\n",
       "      <td></td>\n",
       "      <td>Illingworth's</td>\n",
       "      <td>Slogas</td>\n",
       "      <td>Package only</td>\n",
       "      <td>[texture unspecified]</td>\n",
       "      <td>Glossy</td>\n",
       "      <td>...</td>\n",
       "      <td>101.0</td>\n",
       "      <td>D</td>\n",
       "      <td></td>\n",
       "      <td></td>\n",
       "      <td>0</td>\n",
       "      <td></td>\n",
       "      <td>0</td>\n",
       "      <td>\\tgelatin silver process</td>\n",
       "      <td>#http://vocab.getty.edu/page/aat/300139114#</td>\n",
       "      <td>300139114.0</td>\n",
       "    </tr>\n",
       "    <tr>\n",
       "      <th>188</th>\n",
       "      <td>-1280115691</td>\n",
       "      <td>1916</td>\n",
       "      <td>1</td>\n",
       "      <td>5130</td>\n",
       "      <td></td>\n",
       "      <td>Illingworth's</td>\n",
       "      <td>Slogas</td>\n",
       "      <td>Exposed - package open</td>\n",
       "      <td>[texture unspecified]</td>\n",
       "      <td>Satin Art</td>\n",
       "      <td>...</td>\n",
       "      <td>114.0</td>\n",
       "      <td>D</td>\n",
       "      <td></td>\n",
       "      <td></td>\n",
       "      <td>0</td>\n",
       "      <td></td>\n",
       "      <td>0</td>\n",
       "      <td>\\tgelatin silver process</td>\n",
       "      <td>#http://vocab.getty.edu/page/aat/300139114#</td>\n",
       "      <td>300139114.0</td>\n",
       "    </tr>\n",
       "    <tr>\n",
       "      <th>189</th>\n",
       "      <td>-1257858334</td>\n",
       "      <td>1916</td>\n",
       "      <td>1</td>\n",
       "      <td>5140</td>\n",
       "      <td></td>\n",
       "      <td>Illingworth's</td>\n",
       "      <td>Slogas</td>\n",
       "      <td>Not exposed - package sealed</td>\n",
       "      <td>[texture unspecified]</td>\n",
       "      <td>Glossy</td>\n",
       "      <td>...</td>\n",
       "      <td>114.0</td>\n",
       "      <td>B</td>\n",
       "      <td></td>\n",
       "      <td></td>\n",
       "      <td>0</td>\n",
       "      <td></td>\n",
       "      <td>0</td>\n",
       "      <td>\\tgelatin silver process</td>\n",
       "      <td>#http://vocab.getty.edu/page/aat/300139114#</td>\n",
       "      <td>300139114.0</td>\n",
       "    </tr>\n",
       "  </tbody>\n",
       "</table>\n",
       "<p>3 rows × 24 columns</p>\n",
       "</div>"
      ],
      "text/plain": [
       "        PhotoID  Year  DateUncertain  Catalog Number Secondary Catalog Number  \\\n",
       "187  1416917868  1916              1            4876                            \n",
       "188 -1280115691  1916              1            5130                            \n",
       "189 -1257858334  1916              1            5140                            \n",
       "\n",
       "      Manufacturer   Brand                        Format  \\\n",
       "187  Illingworth's  Slogas                  Package only   \n",
       "188  Illingworth's  Slogas        Exposed - package open   \n",
       "189  Illingworth's  Slogas  Not exposed - package sealed   \n",
       "\n",
       "                  Texture2 Reflectance2  ... LocationBox LocationBag Exposure  \\\n",
       "187  [texture unspecified]       Glossy  ...       101.0           D            \n",
       "188  [texture unspecified]    Satin Art  ...       114.0           D            \n",
       "189  [texture unspecified]       Glossy  ...       114.0           B            \n",
       "\n",
       "     BackprintingPrimary Postcards Toner Resin_coated?  \\\n",
       "187                              0                   0   \n",
       "188                              0                   0   \n",
       "189                              0                   0   \n",
       "\n",
       "                  ProcessName                                         Link  \\\n",
       "187  \\tgelatin silver process  #http://vocab.getty.edu/page/aat/300139114#   \n",
       "188  \\tgelatin silver process  #http://vocab.getty.edu/page/aat/300139114#   \n",
       "189  \\tgelatin silver process  #http://vocab.getty.edu/page/aat/300139114#   \n",
       "\n",
       "         AATA_ID  \n",
       "187  300139114.0  \n",
       "188  300139114.0  \n",
       "189  300139114.0  \n",
       "\n",
       "[3 rows x 24 columns]"
      ]
     },
     "execution_count": 70,
     "metadata": {},
     "output_type": "execute_result"
    }
   ],
   "source": [
    "db.loc[db.Brand.str.contains('Slogas')]"
   ]
  },
  {
   "cell_type": "code",
   "execution_count": 4,
   "id": "8ebffcd7-1f1d-4f2a-aa47-29642e5893c2",
   "metadata": {},
   "outputs": [],
   "source": [
    "package_enums = [\n",
    "    1747,2392,2639,4871,4872,4873,4901,5363,5594\n",
    "]"
   ]
  },
  {
   "cell_type": "code",
   "execution_count": 5,
   "id": "bf3473e1-99b6-4069-ac58-5eaa956aee08",
   "metadata": {},
   "outputs": [],
   "source": [
    "db['Secondary Catalog Number'].loc[db['Catalog Number'].isin(package_enums)] = db['Secondary Catalog Number'].loc[db['Catalog Number'].isin(package_enums)].apply(lambda x: f'_{x}')"
   ]
  },
  {
   "cell_type": "code",
   "execution_count": 6,
   "id": "37804667-4988-4fef-a0d8-c8f7b1f82761",
   "metadata": {},
   "outputs": [],
   "source": [
    "db['catalog'] = db['Catalog Number'].apply(str) + db['Secondary Catalog Number'].apply(lambda x: x.lower())"
   ]
  },
  {
   "cell_type": "markdown",
   "id": "d20dc909-7968-4c02-9df8-aae44b24ac2c",
   "metadata": {},
   "source": [
    "# exposures"
   ]
  },
  {
   "cell_type": "code",
   "execution_count": 7,
   "id": "aa2a9029-d3ce-409c-9328-ff814e47223d",
   "metadata": {},
   "outputs": [],
   "source": [
    "def stringify(v):\n",
    "    try:\n",
    "        return str(int(v)).zfill(3)\n",
    "    except:\n",
    "        return v"
   ]
  },
  {
   "cell_type": "code",
   "execution_count": 8,
   "id": "5333a478-ccd8-4cb8-9303-edf37fcfb344",
   "metadata": {},
   "outputs": [],
   "source": [
    "db.Exposure = [stringify(item) for item in db.Exposure]"
   ]
  },
  {
   "cell_type": "code",
   "execution_count": 9,
   "id": "5c88f93b-dfcb-4f64-bd2a-5788b08aba85",
   "metadata": {},
   "outputs": [],
   "source": [
    "e = {\n",
    "    'a': '005',\n",
    "    'b': '005',\n",
    "    'c': '006',\n",
    "    'd': '006',\n",
    "    'e': '007',\n",
    "    'f': '007',\n",
    "    'g': '008',\n",
    "    'h': '008',\n",
    "    'i': '010',\n",
    "    'j': '010',\n",
    "    'k': '011',\n",
    "    'l': '012',\n",
    "    'm': '012',\n",
    "    'n': '013',\n",
    "    'o': '013',\n",
    "    'p': '014',\n",
    "    'q': '014',\n",
    "    'r': '015',\n",
    "    's': '015',\n",
    "    't': '016',\n",
    "    'u': '016',\n",
    "    'v': '017',\n",
    "    'w': '017',\n",
    "    'x': '018',\n",
    "    'y': '019',\n",
    "    'z': '019',\n",
    "    'aa': '020',\n",
    "    'bb': '020',\n",
    "    'cc': '021',\n",
    "    'dd': '022',\n",
    "    'ee': '022',\n",
    "    'ff': '023',\n",
    "    'gg': '023',\n",
    "    'hh': '024',\n",
    "    'ii': '024',\n",
    "    'jj': '025',\n",
    "}"
   ]
  },
  {
   "cell_type": "code",
   "execution_count": 10,
   "id": "6335d445-5aac-437b-95c3-0b1a98849ff8",
   "metadata": {},
   "outputs": [],
   "source": [
    "idxs = db.loc[db['Catalog Number']==5500].index"
   ]
  },
  {
   "cell_type": "code",
   "execution_count": 11,
   "id": "807af6db-7fad-45e7-8f1c-c25b94048a3a",
   "metadata": {},
   "outputs": [],
   "source": [
    "for idx in idxs:\n",
    "    scn = db['Secondary Catalog Number'].loc[idx]\n",
    "    db.Exposure.loc[idx] = e[scn]"
   ]
  },
  {
   "cell_type": "code",
   "execution_count": 12,
   "id": "4ff259dc-5f45-4ee1-9565-29cda5879dc7",
   "metadata": {},
   "outputs": [],
   "source": [
    "db.Exposure.loc[db.catalog.str.contains('2563')] = [str(item).zfill(3) for item in range(2,11)]"
   ]
  },
  {
   "cell_type": "code",
   "execution_count": 13,
   "id": "6835f928-78de-4e75-9f3c-a7ebe7c2a4c0",
   "metadata": {},
   "outputs": [],
   "source": [
    "db.Exposure.loc[db.catalog=='2078t'] = '025'"
   ]
  },
  {
   "cell_type": "markdown",
   "id": "b23b0a57-356c-45ca-abab-c401d889bc60",
   "metadata": {},
   "source": [
    "## Corrections"
   ]
  },
  {
   "cell_type": "code",
   "execution_count": 14,
   "id": "bb74a3b0-1e9c-4440-b865-d7b6b59fe1a8",
   "metadata": {},
   "outputs": [],
   "source": [
    "idx = db.loc[(db['Catalog Number']==2631)&(db['Secondary Catalog Number']=='yy')].iloc[0].name"
   ]
  },
  {
   "cell_type": "code",
   "execution_count": 15,
   "id": "4875dd62-340e-4f78-a7ef-938723f97016",
   "metadata": {},
   "outputs": [],
   "source": [
    "db['Reflectance2'].loc[idx] = 'Glossy'\n",
    "db['SurfaceDesignation2'].loc[idx] = 'F'\n",
    "db.catalog.loc[idx] = '2631xx'"
   ]
  },
  {
   "cell_type": "code",
   "execution_count": 16,
   "id": "e2d32b03-e717-4da1-a0bb-9abb293fca7f",
   "metadata": {},
   "outputs": [],
   "source": [
    "db.catalog.loc[db.catalog=='2081g'] = '2081h'"
   ]
  },
  {
   "cell_type": "markdown",
   "id": "77a45745-340c-4d79-91e1-0333efc86e8f",
   "metadata": {},
   "source": [
    "# img"
   ]
  },
  {
   "cell_type": "code",
   "execution_count": 17,
   "id": "a6f8dbb7-879b-40ee-aec1-778034fb2e7e",
   "metadata": {},
   "outputs": [],
   "source": [
    "pkgs = glob.glob(os.path.join(\"/Users/damoncrockett/paperbase/src/assets/img/packages/\",\"*.jpg\"))\n",
    "sbs = glob.glob(os.path.join(\"/Users/damoncrockett/paperbase/src/assets/img/samplebooks/\",\"*.jpg\"))"
   ]
  },
  {
   "cell_type": "code",
   "execution_count": 18,
   "id": "d4583a4d-5708-4ed5-a7dd-11907945e68f",
   "metadata": {},
   "outputs": [],
   "source": [
    "pf = pd.DataFrame({\"localpath\":pkgs})\n",
    "sf = pd.DataFrame({\"localpath\":sbs})"
   ]
  },
  {
   "cell_type": "markdown",
   "id": "887863b9-2ce9-4afd-aa73-1a866a6a1ab3",
   "metadata": {},
   "source": [
    "# sf"
   ]
  },
  {
   "cell_type": "code",
   "execution_count": 19,
   "id": "b6856418-c7b7-4435-b3e0-c08bdd5a016c",
   "metadata": {},
   "outputs": [],
   "source": [
    "sf['expstem'] = [os.path.basename(item)[:-4] for item in sf.localpath]"
   ]
  },
  {
   "cell_type": "code",
   "execution_count": 20,
   "id": "5ed669e2-fdce-4bf4-99fc-16e5b60c6fd1",
   "metadata": {},
   "outputs": [],
   "source": [
    "sf['catalog_bare'] = [item.split(\"_\")[0] for item in sf.expstem]"
   ]
  },
  {
   "cell_type": "code",
   "execution_count": 21,
   "id": "839bd567-0415-479c-ab8f-b588cf04a262",
   "metadata": {},
   "outputs": [],
   "source": [
    "sbibarecats = set(sf.catalog_bare)"
   ]
  },
  {
   "cell_type": "code",
   "execution_count": 22,
   "id": "943ab13e-3cb2-4fc6-8520-359cfd0e7e89",
   "metadata": {},
   "outputs": [],
   "source": [
    "sbs_without_exposures = ['3194','5440']\n",
    "for item in sbs_without_exposures:\n",
    "    sbibarecats.remove(item)"
   ]
  },
  {
   "cell_type": "code",
   "execution_count": 23,
   "id": "54a6d696-11bd-4eca-9b5a-8345b712a8f6",
   "metadata": {},
   "outputs": [],
   "source": [
    "db['sb'] = db['Catalog Number'].apply(str).isin(sbibarecats)"
   ]
  },
  {
   "cell_type": "code",
   "execution_count": 24,
   "id": "92ebd396-58ea-4e6e-a19a-43d361f21516",
   "metadata": {},
   "outputs": [],
   "source": [
    "def get_imfile(db,i):\n",
    "    sb = db.sb.loc[i]\n",
    "    if not sb:\n",
    "        return None\n",
    "    else:\n",
    "        cn = db['Catalog Number'].loc[i]\n",
    "        exp = db.Exposure.loc[i]\n",
    "        return f'{cn}_{exp}.jpg'"
   ]
  },
  {
   "cell_type": "code",
   "execution_count": 25,
   "id": "b5899a1e-0850-49ae-a7fe-4a36e29460dd",
   "metadata": {},
   "outputs": [],
   "source": [
    "db['imfile'] = [get_imfile(db,i) for i in db.index]"
   ]
  },
  {
   "cell_type": "code",
   "execution_count": 26,
   "id": "0331fe10-07a6-46aa-9abd-870dd8307bd6",
   "metadata": {},
   "outputs": [],
   "source": [
    "from PIL import Image"
   ]
  },
  {
   "cell_type": "code",
   "execution_count": 27,
   "id": "bfa6f42e-1fd4-46a8-a842-6affe253a38f",
   "metadata": {
    "scrolled": true
   },
   "outputs": [],
   "source": [
    "for imfile in db.imfile:\n",
    "    if imfile is None:\n",
    "        continue\n",
    "    else:\n",
    "        try:\n",
    "            localpath = f'/Users/damoncrockett/paperbase/src/assets/img/samplebooks/{imfile}'\n",
    "            Image.open(localpath)\n",
    "        except:\n",
    "            print(imfile)"
   ]
  },
  {
   "cell_type": "markdown",
   "id": "68b21b6f-146c-4caa-8deb-74486587d8f3",
   "metadata": {},
   "source": [
    "# pf"
   ]
  },
  {
   "cell_type": "code",
   "execution_count": 28,
   "id": "acb9279e-eb6e-4a41-813d-9f70a17d750a",
   "metadata": {},
   "outputs": [],
   "source": [
    "pf['fbase'] = [os.path.basename(item) for item in pf.localpath]"
   ]
  },
  {
   "cell_type": "code",
   "execution_count": 29,
   "id": "c33778d7-5618-4571-8f7e-03cc63ac2af8",
   "metadata": {},
   "outputs": [],
   "source": [
    "pe = set([item.split(\"_\")[0] for item in pf.fbase.loc[pf.fbase.str.contains('_')]])"
   ]
  },
  {
   "cell_type": "code",
   "execution_count": 30,
   "id": "01aac9ad-0520-471e-8bfe-cf6e38140c0c",
   "metadata": {},
   "outputs": [
    {
     "data": {
      "text/plain": [
       "set()"
      ]
     },
     "execution_count": 30,
     "metadata": {},
     "output_type": "execute_result"
    }
   ],
   "source": [
    "set([str(item) for item in package_enums]) - pe"
   ]
  },
  {
   "cell_type": "code",
   "execution_count": 31,
   "id": "8ad1e638-9705-412f-a024-677a0a21e7f7",
   "metadata": {},
   "outputs": [
    {
     "data": {
      "text/plain": [
       "{'4870'}"
      ]
     },
     "execution_count": 31,
     "metadata": {},
     "output_type": "execute_result"
    }
   ],
   "source": [
    "pe - set([str(item) for item in package_enums])"
   ]
  },
  {
   "cell_type": "code",
   "execution_count": 32,
   "id": "d284cdd9-acea-4d0a-a779-d95a0cc3d2f4",
   "metadata": {},
   "outputs": [],
   "source": [
    "def extract_numbers(s):\n",
    "    return re.findall(r'\\d+', s)"
   ]
  },
  {
   "cell_type": "code",
   "execution_count": 33,
   "id": "84645b70-e383-4524-9cd3-c2fd2d8aa90a",
   "metadata": {},
   "outputs": [],
   "source": [
    "pf['barecat'] = [extract_numbers(item)[0] for item in pf.fbase]"
   ]
  },
  {
   "cell_type": "code",
   "execution_count": 34,
   "id": "f3e410ef-f49d-48f4-a6fc-97b11cf76014",
   "metadata": {},
   "outputs": [],
   "source": [
    "barecats = pf[['barecat','fbase']].groupby('barecat').agg(list).reset_index()"
   ]
  },
  {
   "cell_type": "code",
   "execution_count": 35,
   "id": "b4191a70-1114-42bf-b031-7ab162c8d378",
   "metadata": {},
   "outputs": [],
   "source": [
    "barecats = barecats.loc[~barecats.barecat.isin(pe)]"
   ]
  },
  {
   "cell_type": "code",
   "execution_count": 36,
   "id": "3091f2d9-1ed6-4b3a-8fc4-5f11496fe2f8",
   "metadata": {},
   "outputs": [],
   "source": [
    "db.rename(columns={\"Catalog Number\":\"barecat\"},inplace=True)"
   ]
  },
  {
   "cell_type": "code",
   "execution_count": 37,
   "id": "a4cbacbb-3631-40e9-ae16-487f0c4136d7",
   "metadata": {},
   "outputs": [],
   "source": [
    "db.barecat = db.barecat.apply(str)"
   ]
  },
  {
   "cell_type": "code",
   "execution_count": 38,
   "id": "f3c0bf6d-3941-437b-9be3-5deebca60535",
   "metadata": {},
   "outputs": [
    {
     "data": {
      "text/plain": [
       "7241"
      ]
     },
     "execution_count": 38,
     "metadata": {},
     "output_type": "execute_result"
    }
   ],
   "source": [
    "len(db)"
   ]
  },
  {
   "cell_type": "code",
   "execution_count": 39,
   "id": "de7869ab-6442-4e8e-b4b5-64dc149eb7f3",
   "metadata": {},
   "outputs": [],
   "source": [
    "db = db.join(barecats.set_index('barecat'),'barecat')"
   ]
  },
  {
   "cell_type": "code",
   "execution_count": 40,
   "id": "bc0a38c5-6304-4bc2-94a9-b3787d39b75b",
   "metadata": {},
   "outputs": [],
   "source": [
    "db['imfiles'] = db['imfile'].combine_first(db['fbase'])"
   ]
  },
  {
   "cell_type": "code",
   "execution_count": 41,
   "id": "6dda1276-d695-41d0-b1d3-45390b8c6c4a",
   "metadata": {},
   "outputs": [],
   "source": [
    "db['imfiles_type'] = db.imfiles.apply(type) "
   ]
  },
  {
   "cell_type": "code",
   "execution_count": 42,
   "id": "bf32458f-565f-4e6e-98eb-28d6af367595",
   "metadata": {},
   "outputs": [
    {
     "data": {
      "text/plain": [
       "imfiles_type\n",
       "<class 'str'>      4553\n",
       "<class 'list'>     2648\n",
       "<class 'float'>      40\n",
       "Name: count, dtype: int64"
      ]
     },
     "execution_count": 42,
     "metadata": {},
     "output_type": "execute_result"
    }
   ],
   "source": [
    "db.imfiles_type.value_counts()"
   ]
  },
  {
   "cell_type": "code",
   "execution_count": 43,
   "id": "916a89bd-0b0a-4d23-a059-70faf87a6eaf",
   "metadata": {},
   "outputs": [
    {
     "data": {
      "text/plain": [
       "4553"
      ]
     },
     "execution_count": 43,
     "metadata": {},
     "output_type": "execute_result"
    }
   ],
   "source": [
    "len(db.loc[db.imfile.notnull()])"
   ]
  },
  {
   "cell_type": "code",
   "execution_count": 44,
   "id": "7c63444d-5c7d-4688-b2b7-079ac2207344",
   "metadata": {},
   "outputs": [],
   "source": [
    "def tryfile(f):\n",
    "    if isinstance(f,list):\n",
    "        for i in f:\n",
    "            tryfile(i)\n",
    "    else:\n",
    "        if not pd.isna(f):\n",
    "            try:\n",
    "                localpath = f'/Users/damoncrockett/paperbase/src/assets/img/samplebooks/{f}'\n",
    "                Image.open(localpath)\n",
    "            except Exception as e:\n",
    "                try:\n",
    "                    localpath = f'/Users/damoncrockett/paperbase/src/assets/img/packages/{f}'\n",
    "                    Image.open(localpath)\n",
    "                except Exception as e:\n",
    "                    print(e)"
   ]
  },
  {
   "cell_type": "code",
   "execution_count": 45,
   "id": "9a20f1db-4ab5-4fa8-8196-e1a483ad3612",
   "metadata": {},
   "outputs": [],
   "source": [
    "nullidxs = db.catalog.loc[db.imfiles.isnull()].index"
   ]
  },
  {
   "cell_type": "code",
   "execution_count": 46,
   "id": "96d6b744-1163-4e92-a0b5-ae9720fbcc3b",
   "metadata": {},
   "outputs": [],
   "source": [
    "lodashes = pf.loc[pf.barecat.isin(pe)]"
   ]
  },
  {
   "cell_type": "code",
   "execution_count": 47,
   "id": "1c8ab283-919e-40d9-a9ab-3f7f35ea842d",
   "metadata": {},
   "outputs": [],
   "source": [
    "lodashes = lodashes[['fbase','barecat']].groupby('barecat').agg(list).reset_index()"
   ]
  },
  {
   "cell_type": "code",
   "execution_count": 48,
   "id": "5d0ffdd9-bcdc-4723-9961-ba13a00aee36",
   "metadata": {},
   "outputs": [],
   "source": [
    "for nullidx in nullidxs:\n",
    "    tmp = db.loc[nullidx]\n",
    "    catalog = tmp.catalog\n",
    "    barecat = tmp.barecat\n",
    "\n",
    "    l = lodashes.fbase.loc[lodashes.barecat==barecat]\n",
    "    if len(l) > 0:\n",
    "        assert len(l)==1\n",
    "        l = l.iloc[0]\n",
    "        assert isinstance(l,list)\n",
    "\n",
    "        imglist = []\n",
    "        core = [item for item in l if \"_\" not in item]\n",
    "        if len(core) > 0:\n",
    "            for c in core:\n",
    "                imglist.append(c)\n",
    "        matches = [item for item in l if catalog in item]\n",
    "        for match in matches:\n",
    "            imglist.append(match)\n",
    "    \n",
    "        if len(imglist) > 0:\n",
    "            db.imfiles.loc[nullidx] = imglist"
   ]
  },
  {
   "cell_type": "code",
   "execution_count": 49,
   "id": "dd1413d2-7f20-4223-962c-6f5ce8f70e23",
   "metadata": {},
   "outputs": [],
   "source": [
    "for imfile in db.imfiles:\n",
    "    tryfile(imfile)"
   ]
  },
  {
   "cell_type": "code",
   "execution_count": 50,
   "id": "800ed747-c16c-4f5c-b75d-65ba0487b707",
   "metadata": {},
   "outputs": [],
   "source": [
    "misscats = list(db.catalog.loc[db.imfiles.isnull()])"
   ]
  },
  {
   "cell_type": "code",
   "execution_count": 51,
   "id": "9c8038ff-b401-4cb9-9e8b-4857b6b8fcc8",
   "metadata": {},
   "outputs": [
    {
     "data": {
      "text/html": [
       "<div>\n",
       "<style scoped>\n",
       "    .dataframe tbody tr th:only-of-type {\n",
       "        vertical-align: middle;\n",
       "    }\n",
       "\n",
       "    .dataframe tbody tr th {\n",
       "        vertical-align: top;\n",
       "    }\n",
       "\n",
       "    .dataframe thead th {\n",
       "        text-align: right;\n",
       "    }\n",
       "</style>\n",
       "<table border=\"1\" class=\"dataframe\">\n",
       "  <thead>\n",
       "    <tr style=\"text-align: right;\">\n",
       "      <th></th>\n",
       "      <th>localpath</th>\n",
       "      <th>expstem</th>\n",
       "      <th>catalog_bare</th>\n",
       "    </tr>\n",
       "  </thead>\n",
       "  <tbody>\n",
       "    <tr>\n",
       "      <th>2195</th>\n",
       "      <td>/Users/damoncrockett/paperbase/src/assets/img/...</td>\n",
       "      <td>3194_001</td>\n",
       "      <td>3194</td>\n",
       "    </tr>\n",
       "    <tr>\n",
       "      <th>2518</th>\n",
       "      <td>/Users/damoncrockett/paperbase/src/assets/img/...</td>\n",
       "      <td>3194_002</td>\n",
       "      <td>3194</td>\n",
       "    </tr>\n",
       "    <tr>\n",
       "      <th>4754</th>\n",
       "      <td>/Users/damoncrockett/paperbase/src/assets/img/...</td>\n",
       "      <td>5440_001</td>\n",
       "      <td>5440</td>\n",
       "    </tr>\n",
       "  </tbody>\n",
       "</table>\n",
       "</div>"
      ],
      "text/plain": [
       "                                              localpath   expstem catalog_bare\n",
       "2195  /Users/damoncrockett/paperbase/src/assets/img/...  3194_001         3194\n",
       "2518  /Users/damoncrockett/paperbase/src/assets/img/...  3194_002         3194\n",
       "4754  /Users/damoncrockett/paperbase/src/assets/img/...  5440_001         5440"
      ]
     },
     "execution_count": 51,
     "metadata": {},
     "output_type": "execute_result"
    }
   ],
   "source": [
    "sf.loc[sf.catalog_bare.isin(misscats)]"
   ]
  },
  {
   "cell_type": "code",
   "execution_count": 52,
   "id": "6a61429b-0965-4180-8e2b-7cfa59651fac",
   "metadata": {},
   "outputs": [],
   "source": [
    "idx = db.loc[db.catalog=='5440'].index[0]\n",
    "db.imfiles.loc[idx] = '5440_001.jpg'"
   ]
  },
  {
   "cell_type": "code",
   "execution_count": 53,
   "id": "fb998d48-ed58-4444-85b2-a0f790b05990",
   "metadata": {},
   "outputs": [],
   "source": [
    "idx = db.loc[db.catalog=='3194'].index[0]\n",
    "db.imfiles.loc[idx] = ['3194_001.jpg','3194_002.jpg']"
   ]
  },
  {
   "cell_type": "code",
   "execution_count": 54,
   "id": "a16349bd-8610-416c-a014-2a6bc738c871",
   "metadata": {},
   "outputs": [
    {
     "data": {
      "text/plain": [
       "526     1003\n",
       "2180     114\n",
       "3167    5617\n",
       "3168    5618\n",
       "3169    5619\n",
       "4125     859\n",
       "6768    1861\n",
       "Name: catalog, dtype: object"
      ]
     },
     "execution_count": 54,
     "metadata": {},
     "output_type": "execute_result"
    }
   ],
   "source": [
    "db.catalog.loc[db.imfiles.isnull()]"
   ]
  },
  {
   "cell_type": "code",
   "execution_count": 55,
   "id": "b1caf781-6672-4c60-b824-50786475d206",
   "metadata": {},
   "outputs": [],
   "source": [
    "misscats = list(db.catalog.loc[db.imfiles.isnull()])"
   ]
  },
  {
   "cell_type": "code",
   "execution_count": 56,
   "id": "f6590af8-322f-453a-a2c6-ae8d0ce75d4c",
   "metadata": {},
   "outputs": [
    {
     "data": {
      "text/html": [
       "<div>\n",
       "<style scoped>\n",
       "    .dataframe tbody tr th:only-of-type {\n",
       "        vertical-align: middle;\n",
       "    }\n",
       "\n",
       "    .dataframe tbody tr th {\n",
       "        vertical-align: top;\n",
       "    }\n",
       "\n",
       "    .dataframe thead th {\n",
       "        text-align: right;\n",
       "    }\n",
       "</style>\n",
       "<table border=\"1\" class=\"dataframe\">\n",
       "  <thead>\n",
       "    <tr style=\"text-align: right;\">\n",
       "      <th></th>\n",
       "      <th>localpath</th>\n",
       "      <th>fbase</th>\n",
       "      <th>barecat</th>\n",
       "    </tr>\n",
       "  </thead>\n",
       "  <tbody>\n",
       "  </tbody>\n",
       "</table>\n",
       "</div>"
      ],
      "text/plain": [
       "Empty DataFrame\n",
       "Columns: [localpath, fbase, barecat]\n",
       "Index: []"
      ]
     },
     "execution_count": 56,
     "metadata": {},
     "output_type": "execute_result"
    }
   ],
   "source": [
    "pf.loc[pf.barecat.isin(misscats)]"
   ]
  },
  {
   "cell_type": "code",
   "execution_count": 57,
   "id": "076ea2f6-27b5-46fa-b09f-c570c9076455",
   "metadata": {},
   "outputs": [],
   "source": [
    "misscats = [item for item in misscats if item not in ['5617','5618','5619']]"
   ]
  },
  {
   "cell_type": "code",
   "execution_count": 58,
   "id": "421c1c16-d833-42f6-9f56-76930c32edfb",
   "metadata": {},
   "outputs": [],
   "source": [
    "#db.loc[db.catalog.isin(misscats)].iloc[:,1:16]"
   ]
  },
  {
   "cell_type": "code",
   "execution_count": 59,
   "id": "ec6cf898-a1e0-4a16-a104-e4ebd749e4d7",
   "metadata": {},
   "outputs": [
    {
     "data": {
      "text/plain": [
       "{'1005', '5211', '5212', '5262', '5319'}"
      ]
     },
     "execution_count": 59,
     "metadata": {},
     "output_type": "execute_result"
    }
   ],
   "source": [
    "set(sf.catalog_bare).union(set(pf.barecat)) - set(db.barecat)"
   ]
  },
  {
   "cell_type": "markdown",
   "id": "bdf38c7e-566c-4e90-aacb-11f79e5c442c",
   "metadata": {},
   "source": [
    "# checksums"
   ]
  },
  {
   "cell_type": "code",
   "execution_count": 60,
   "id": "e4180f78-4429-4192-8b06-6f999d0fab3d",
   "metadata": {},
   "outputs": [],
   "source": [
    "db = db.loc[db.imfiles.notnull()]"
   ]
  },
  {
   "cell_type": "code",
   "execution_count": 61,
   "id": "d13caf05-6fc8-4426-bbfd-f89b4b656c0c",
   "metadata": {},
   "outputs": [],
   "source": [
    "db = db.reset_index(drop=True)"
   ]
  },
  {
   "cell_type": "code",
   "execution_count": 94,
   "id": "c2126b2e-4378-4653-ab3f-974b6a4b6d90",
   "metadata": {},
   "outputs": [],
   "source": [
    "import hashlib"
   ]
  },
  {
   "cell_type": "code",
   "execution_count": 95,
   "id": "5240ab80-a797-47e7-a255-82b52e98b460",
   "metadata": {},
   "outputs": [],
   "source": [
    "def get_md5_checksum(file_path):\n",
    "    hash_md5 = hashlib.md5()\n",
    "    with open(file_path, \"rb\") as f:\n",
    "        # Read and update hash string value in blocks of 4K\n",
    "        for chunk in iter(lambda: f.read(4096), b\"\"):\n",
    "            hash_md5.update(chunk)\n",
    "    return hash_md5.hexdigest()"
   ]
  },
  {
   "cell_type": "code",
   "execution_count": 96,
   "id": "89d4f35e-481d-4d71-94cb-c63845808cd1",
   "metadata": {},
   "outputs": [],
   "source": [
    "db['imfiles_type'] = db.imfiles.apply(type) "
   ]
  },
  {
   "cell_type": "code",
   "execution_count": 102,
   "id": "fc449cd6-2ed7-4d77-a495-3191077e5d45",
   "metadata": {},
   "outputs": [],
   "source": [
    "img_dicts = []\n",
    "for imfile in db.imfiles:\n",
    "    if isinstance(imfile,str):\n",
    "        d = {}\n",
    "        d['filename'] = imfile\n",
    "        d['md5'] = get_md5_checksum(f'/Users/damoncrockett/lml2lux/img/{imfile}')\n",
    "        img_dicts.append(d)\n",
    "    elif isinstance(imfile,list):\n",
    "        dictlist = []\n",
    "        for i in imfile:\n",
    "            d = {}\n",
    "            d['filename'] = i\n",
    "            d['md5'] = get_md5_checksum(f'/Users/damoncrockett/lml2lux/img/{i}')\n",
    "            dictlist.append(d)\n",
    "        img_dicts.append(dictlist)"
   ]
  },
  {
   "cell_type": "code",
   "execution_count": 104,
   "id": "125cd63e-d26c-45cc-88df-1db4e2c67b2d",
   "metadata": {},
   "outputs": [],
   "source": [
    "db['imfiles_md5'] = img_dicts "
   ]
  },
  {
   "cell_type": "code",
   "execution_count": 107,
   "id": "8a1fb623-f762-4e0c-8c73-8d746aec3be3",
   "metadata": {},
   "outputs": [],
   "source": [
    "db.to_pickle('db.pkl')"
   ]
  },
  {
   "cell_type": "code",
   "execution_count": null,
   "id": "64fc6b8f-518f-48de-9f7c-909f7374912b",
   "metadata": {},
   "outputs": [],
   "source": []
  }
 ],
 "metadata": {
  "kernelspec": {
   "display_name": "Python 3 (ipykernel)",
   "language": "python",
   "name": "python3"
  },
  "language_info": {
   "codemirror_mode": {
    "name": "ipython",
    "version": 3
   },
   "file_extension": ".py",
   "mimetype": "text/x-python",
   "name": "python",
   "nbconvert_exporter": "python",
   "pygments_lexer": "ipython3",
   "version": "3.10.4"
  }
 },
 "nbformat": 4,
 "nbformat_minor": 5
}
