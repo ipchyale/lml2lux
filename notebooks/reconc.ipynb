{
 "cells": [
  {
   "cell_type": "code",
   "execution_count": 194,
   "id": "d18118f6-8ae9-4e68-9e84-5c150ab7fa7d",
   "metadata": {},
   "outputs": [],
   "source": [
    "import pandas as pd\n",
    "import warnings\n",
    "warnings.filterwarnings('ignore')\n",
    "import unicodedata\n",
    "import re"
   ]
  },
  {
   "cell_type": "code",
   "execution_count": 195,
   "id": "9196fbab-4848-4692-8d59-af9495a0f621",
   "metadata": {},
   "outputs": [],
   "source": [
    "df = pd.read_csv(\"../sources/export_06_18_24.csv\", encoding='latin-1')"
   ]
  },
  {
   "cell_type": "code",
   "execution_count": 196,
   "id": "407f3912-b220-4540-93e6-2bcac1be2a04",
   "metadata": {},
   "outputs": [],
   "source": [
    "rf = pd.read_csv(\"../sources/lml-reconciled.csv\", encoding='latin-1')"
   ]
  },
  {
   "cell_type": "code",
   "execution_count": 197,
   "id": "83e2856d-6d27-4172-92df-7fcd255ef475",
   "metadata": {},
   "outputs": [],
   "source": [
    "df['Secondary Catalog Number'] = df['Secondary Catalog Number'].fillna('')"
   ]
  },
  {
   "cell_type": "code",
   "execution_count": 198,
   "id": "b68469e7-af0c-4bb5-a8ab-0935788ae590",
   "metadata": {},
   "outputs": [],
   "source": [
    "rf['Secondary Catalog Number'] = rf['Secondary Catalog Number'].fillna('')"
   ]
  },
  {
   "cell_type": "code",
   "execution_count": 199,
   "id": "3fc27cdc-9db6-4afa-aba4-49dcfb73cece",
   "metadata": {},
   "outputs": [],
   "source": [
    "def get_catalog_number(smp):\n",
    "    pcn = str(smp['Catalog Number'])\n",
    "    scn = smp.fillna('')['Secondary Catalog Number']\n",
    "\n",
    "    return pcn + scn"
   ]
  },
  {
   "cell_type": "code",
   "execution_count": 200,
   "id": "c69d4f98-1c60-4948-910a-58a6bef99267",
   "metadata": {},
   "outputs": [],
   "source": [
    "df['cat'] = [get_catalog_number(df.iloc[i]) for i in range(len(df))]"
   ]
  },
  {
   "cell_type": "code",
   "execution_count": 201,
   "id": "adb3eb3a-3727-4d14-9a38-39bb4592b79c",
   "metadata": {},
   "outputs": [],
   "source": [
    "rf['cat'] = [get_catalog_number(rf.iloc[i]) for i in range(len(rf))]"
   ]
  },
  {
   "cell_type": "code",
   "execution_count": 202,
   "id": "2250f464-d56a-418f-a352-9a4908d38bb0",
   "metadata": {},
   "outputs": [],
   "source": [
    "rf = rf[['cat','Manufacturer Equivalent IDs','Brand Equivalent IDs']]"
   ]
  },
  {
   "cell_type": "code",
   "execution_count": 203,
   "id": "45bce73c-1f83-4d90-b267-9ed7b40028bc",
   "metadata": {},
   "outputs": [],
   "source": [
    "rf = rf.drop_duplicates()"
   ]
  },
  {
   "cell_type": "code",
   "execution_count": 204,
   "id": "a04201ba-5bfc-4fcb-8d95-49aa5cd903c8",
   "metadata": {},
   "outputs": [],
   "source": [
    "df = df.join(rf.set_index('cat'),'cat')"
   ]
  },
  {
   "cell_type": "code",
   "execution_count": 205,
   "id": "81fee082-5cac-48eb-94c3-1b3394b7bb5f",
   "metadata": {},
   "outputs": [],
   "source": [
    "df.ProcessName = df.ProcessName.apply(lambda x:x.strip('\\t'))"
   ]
  },
  {
   "cell_type": "code",
   "execution_count": 206,
   "id": "70000c13-6256-41b2-bb21-379374efe961",
   "metadata": {},
   "outputs": [],
   "source": [
    "df.Link = df.Link.apply(lambda x: 'http://vocab.getty.edu/' + \"/\".join(x.strip(\"#\").split(\"/\")[-2:]))"
   ]
  },
  {
   "cell_type": "code",
   "execution_count": 207,
   "id": "72c40ff5-1f57-4cca-a370-3a859870e3cf",
   "metadata": {},
   "outputs": [],
   "source": [
    "df.columns = ['photoid','year','circa','catalog','catalog2','man','bran','storfor','xd','gd','cd','td','s','omit',\n",
    "              'locbox','locbag','expos','backp','processname','processlink','processaata','cat','manid','branid']"
   ]
  },
  {
   "cell_type": "code",
   "execution_count": 208,
   "id": "2d05e7ca-0208-4cdc-b5bf-a521919ef775",
   "metadata": {},
   "outputs": [],
   "source": [
    "df = df[['cat','man','bran','year','circa','xd','gd','cd','td','s','storfor','omit',\n",
    "        'locbox','locbag','expos','backp','processname','processlink','processaata','cat','manid','branid']]"
   ]
  },
  {
   "cell_type": "code",
   "execution_count": 209,
   "id": "5ef48ccb-0d23-4e04-86aa-d8b3de3b7993",
   "metadata": {},
   "outputs": [],
   "source": [
    "# Autotype: http://viaf.org/viaf/131563321\n",
    "# Foton: http://www.wikidata.org/entity/Q115823390"
   ]
  },
  {
   "cell_type": "code",
   "execution_count": 210,
   "id": "a2f063c8-e7ec-404a-a3af-c5fc3f258a44",
   "metadata": {},
   "outputs": [],
   "source": [
    "df.manid.loc[df.man=='Autotype'] = 'http://viaf.org/viaf/131563321'\n",
    "df.manid.loc[df.man=='Foton'] = 'http://www.wikidata.org/entity/Q115823390'"
   ]
  },
  {
   "cell_type": "code",
   "execution_count": 211,
   "id": "613103fb-a117-4b31-8883-e5fd732567ac",
   "metadata": {},
   "outputs": [],
   "source": [
    "df.manid.loc[df.man=='Kodak London'] = 'http://viaf.org/viaf/150021959'"
   ]
  },
  {
   "cell_type": "code",
   "execution_count": 212,
   "id": "083d67ef-d5c7-432a-9e10-c6c59d33dbe3",
   "metadata": {},
   "outputs": [],
   "source": [
    "mans = df.man.unique()"
   ]
  },
  {
   "cell_type": "code",
   "execution_count": 213,
   "id": "c11eb511-c7fb-49ae-9457-e2886068a54c",
   "metadata": {},
   "outputs": [],
   "source": [
    "def to_filename(name):\n",
    "\n",
    "    if pd.isna(name):\n",
    "        return None\n",
    "\n",
    "    name = name.lower().strip()\n",
    "    \n",
    "    # Normalize Unicode characters to their closest ASCII representation\n",
    "    normalized_name = unicodedata.normalize('NFKD', name).encode('ascii', 'ignore').decode('ascii')\n",
    "    # Remove problematic characters\n",
    "    safe_name = re.sub(r\"[\\/\\\\\\:\\*\\?\\\"\\<\\>\\|\\#\\%\\&\\{\\}\\\\\\<\\>\\*\\?\\$\\/\\'\\\"\\:\\@\\+\\`|=!]\", \"\", normalized_name)\n",
    "    # Replace spaces (and any residual space-like characters) with underscores\n",
    "    safe_name = re.sub(r\"\\s+\", \"_\", safe_name)\n",
    "    # Append the .json extension\n",
    "    return safe_name"
   ]
  },
  {
   "cell_type": "code",
   "execution_count": 214,
   "id": "57f8b855-7da1-4dce-8656-65f87900dd92",
   "metadata": {},
   "outputs": [],
   "source": [
    "df['mansafe'] = df.man.apply(to_filename)"
   ]
  },
  {
   "cell_type": "code",
   "execution_count": 215,
   "id": "088b244b-5e55-446c-9bf2-ca739c035b17",
   "metadata": {},
   "outputs": [
    {
     "data": {
      "text/plain": [
       "True"
      ]
     },
     "execution_count": 215,
     "metadata": {},
     "output_type": "execute_result"
    }
   ],
   "source": [
    "len(df.mansafe.unique())==len(df.man.unique())"
   ]
  },
  {
   "cell_type": "code",
   "execution_count": 217,
   "id": "11a9e479-d0d1-4bfe-85aa-efe56b42890c",
   "metadata": {},
   "outputs": [],
   "source": [
    "brans = df.bran.unique()"
   ]
  },
  {
   "cell_type": "code",
   "execution_count": 218,
   "id": "cc3b2925-536d-434a-8a05-2f5b02d19ab3",
   "metadata": {},
   "outputs": [],
   "source": [
    "df['bransafe'] = df.bran.apply(to_filename)"
   ]
  },
  {
   "cell_type": "code",
   "execution_count": 219,
   "id": "0cdd48b9-ec68-415b-9299-003447bade50",
   "metadata": {},
   "outputs": [
    {
     "data": {
      "text/plain": [
       "True"
      ]
     },
     "execution_count": 219,
     "metadata": {},
     "output_type": "execute_result"
    }
   ],
   "source": [
    "len(df.bransafe.unique())==len(df.bran.unique())"
   ]
  },
  {
   "cell_type": "code",
   "execution_count": 221,
   "id": "308e9f21-abc4-4798-9080-91953b6bef5c",
   "metadata": {},
   "outputs": [],
   "source": [
    "df.to_pickle('reconc.pkl')"
   ]
  },
  {
   "cell_type": "code",
   "execution_count": null,
   "id": "9fa3d78b-b03b-4eec-9b5f-6c006a1d77ad",
   "metadata": {},
   "outputs": [],
   "source": []
  }
 ],
 "metadata": {
  "kernelspec": {
   "display_name": "Python 3 (ipykernel)",
   "language": "python",
   "name": "python3"
  },
  "language_info": {
   "codemirror_mode": {
    "name": "ipython",
    "version": 3
   },
   "file_extension": ".py",
   "mimetype": "text/x-python",
   "name": "python",
   "nbconvert_exporter": "python",
   "pygments_lexer": "ipython3",
   "version": "3.10.4"
  }
 },
 "nbformat": 4,
 "nbformat_minor": 5
}
