{
 "cells": [
  {
   "cell_type": "code",
   "execution_count": 194,
   "id": "d18118f6-8ae9-4e68-9e84-5c150ab7fa7d",
   "metadata": {},
   "outputs": [],
   "source": [
    "import pandas as pd\n",
    "import warnings\n",
    "warnings.filterwarnings('ignore')\n",
    "import unicodedata\n",
    "import re"
   ]
  },
  {
   "cell_type": "code",
   "execution_count": 195,
   "id": "9196fbab-4848-4692-8d59-af9495a0f621",
   "metadata": {},
   "outputs": [],
   "source": [
    "df = pd.read_csv(\"../sources/export_06_18_24.csv\", encoding='latin-1')"
   ]
  },
  {
   "cell_type": "code",
   "execution_count": 196,
   "id": "407f3912-b220-4540-93e6-2bcac1be2a04",
   "metadata": {},
   "outputs": [],
   "source": [
    "rf = pd.read_csv(\"../sources/lml-reconciled.csv\", encoding='latin-1')"
   ]
  },
  {
   "cell_type": "code",
   "execution_count": 197,
   "id": "83e2856d-6d27-4172-92df-7fcd255ef475",
   "metadata": {},
   "outputs": [],
   "source": [
    "df['Secondary Catalog Number'] = df['Secondary Catalog Number'].fillna('')"
   ]
  },
  {
   "cell_type": "code",
   "execution_count": 198,
   "id": "b68469e7-af0c-4bb5-a8ab-0935788ae590",
   "metadata": {},
   "outputs": [],
   "source": [
    "rf['Secondary Catalog Number'] = rf['Secondary Catalog Number'].fillna('')"
   ]
  },
  {
   "cell_type": "code",
   "execution_count": 199,
   "id": "3fc27cdc-9db6-4afa-aba4-49dcfb73cece",
   "metadata": {},
   "outputs": [],
   "source": [
    "def get_catalog_number(smp):\n",
    "    pcn = str(smp['Catalog Number'])\n",
    "    scn = smp.fillna('')['Secondary Catalog Number']\n",
    "\n",
    "    return pcn + scn"
   ]
  },
  {
   "cell_type": "code",
   "execution_count": 200,
   "id": "c69d4f98-1c60-4948-910a-58a6bef99267",
   "metadata": {},
   "outputs": [],
   "source": [
    "df['cat'] = [get_catalog_number(df.iloc[i]) for i in range(len(df))]"
   ]
  },
  {
   "cell_type": "code",
   "execution_count": 201,
   "id": "adb3eb3a-3727-4d14-9a38-39bb4592b79c",
   "metadata": {},
   "outputs": [],
   "source": [
    "rf['cat'] = [get_catalog_number(rf.iloc[i]) for i in range(len(rf))]"
   ]
  },
  {
   "cell_type": "code",
   "execution_count": 202,
   "id": "2250f464-d56a-418f-a352-9a4908d38bb0",
   "metadata": {},
   "outputs": [],
   "source": [
    "rf = rf[['cat','Manufacturer Equivalent IDs','Brand Equivalent IDs']]"
   ]
  },
  {
   "cell_type": "code",
   "execution_count": 203,
   "id": "45bce73c-1f83-4d90-b267-9ed7b40028bc",
   "metadata": {},
   "outputs": [],
   "source": [
    "rf = rf.drop_duplicates()"
   ]
  },
  {
   "cell_type": "code",
   "execution_count": 204,
   "id": "a04201ba-5bfc-4fcb-8d95-49aa5cd903c8",
   "metadata": {},
   "outputs": [],
   "source": [
    "df = df.join(rf.set_index('cat'),'cat')"
   ]
  },
  {
   "cell_type": "code",
   "execution_count": 205,
   "id": "81fee082-5cac-48eb-94c3-1b3394b7bb5f",
   "metadata": {},
   "outputs": [],
   "source": [
    "df.ProcessName = df.ProcessName.apply(lambda x:x.strip('\\t'))"
   ]
  },
  {
   "cell_type": "code",
   "execution_count": 206,
   "id": "70000c13-6256-41b2-bb21-379374efe961",
   "metadata": {},
   "outputs": [],
   "source": [
    "df.Link = df.Link.apply(lambda x: 'http://vocab.getty.edu/' + \"/\".join(x.strip(\"#\").split(\"/\")[-2:]))"
   ]
  },
  {
   "cell_type": "code",
   "execution_count": 207,
   "id": "72c40ff5-1f57-4cca-a370-3a859870e3cf",
   "metadata": {},
   "outputs": [],
   "source": [
    "df.columns = ['photoid','year','circa','catalog','catalog2','man','bran','storfor','xd','gd','cd','td','s','omit',\n",
    "              'locbox','locbag','expos','backp','processname','processlink','processaata','cat','manid','branid']"
   ]
  },
  {
   "cell_type": "code",
   "execution_count": 208,
   "id": "2d05e7ca-0208-4cdc-b5bf-a521919ef775",
   "metadata": {},
   "outputs": [],
   "source": [
    "df = df[['cat','man','bran','year','circa','xd','gd','cd','td','s','storfor','omit',\n",
    "        'locbox','locbag','expos','backp','processname','processlink','processaata','cat','manid','branid']]"
   ]
  },
  {
   "cell_type": "code",
   "execution_count": 209,
   "id": "5ef48ccb-0d23-4e04-86aa-d8b3de3b7993",
   "metadata": {},
   "outputs": [],
   "source": [
    "# Autotype: http://viaf.org/viaf/131563321\n",
    "# Foton: http://www.wikidata.org/entity/Q115823390"
   ]
  },
  {
   "cell_type": "code",
   "execution_count": 210,
   "id": "a2f063c8-e7ec-404a-a3af-c5fc3f258a44",
   "metadata": {},
   "outputs": [],
   "source": [
    "df.manid.loc[df.man=='Autotype'] = 'http://viaf.org/viaf/131563321'\n",
    "df.manid.loc[df.man=='Foton'] = 'http://www.wikidata.org/entity/Q115823390'"
   ]
  },
  {
   "cell_type": "code",
   "execution_count": 211,
   "id": "613103fb-a117-4b31-8883-e5fd732567ac",
   "metadata": {},
   "outputs": [],
   "source": [
    "df.manid.loc[df.man=='Kodak London'] = 'http://viaf.org/viaf/150021959'"
   ]
  },
  {
   "cell_type": "code",
   "execution_count": 212,
   "id": "083d67ef-d5c7-432a-9e10-c6c59d33dbe3",
   "metadata": {},
   "outputs": [],
   "source": [
    "mans = df.man.unique()"
   ]
  },
  {
   "cell_type": "code",
   "execution_count": 213,
   "id": "c11eb511-c7fb-49ae-9457-e2886068a54c",
   "metadata": {},
   "outputs": [],
   "source": [
    "def to_filename(name):\n",
    "\n",
    "    if pd.isna(name):\n",
    "        return None\n",
    "\n",
    "    name = name.lower().strip()\n",
    "    \n",
    "    # Normalize Unicode characters to their closest ASCII representation\n",
    "    normalized_name = unicodedata.normalize('NFKD', name).encode('ascii', 'ignore').decode('ascii')\n",
    "    # Remove problematic characters\n",
    "    safe_name = re.sub(r\"[\\/\\\\\\:\\*\\?\\\"\\<\\>\\|\\#\\%\\&\\{\\}\\\\\\<\\>\\*\\?\\$\\/\\'\\\"\\:\\@\\+\\`|=!]\", \"\", normalized_name)\n",
    "    # Replace spaces (and any residual space-like characters) with underscores\n",
    "    safe_name = re.sub(r\"\\s+\", \"_\", safe_name)\n",
    "    # Append the .json extension\n",
    "    return safe_name"
   ]
  },
  {
   "cell_type": "code",
   "execution_count": 214,
   "id": "57f8b855-7da1-4dce-8656-65f87900dd92",
   "metadata": {},
   "outputs": [],
   "source": [
    "df['mansafe'] = df.man.apply(to_filename)"
   ]
  },
  {
   "cell_type": "code",
   "execution_count": 215,
   "id": "088b244b-5e55-446c-9bf2-ca739c035b17",
   "metadata": {},
   "outputs": [
    {
     "data": {
      "text/plain": [
       "True"
      ]
     },
     "execution_count": 215,
     "metadata": {},
     "output_type": "execute_result"
    }
   ],
   "source": [
    "len(df.mansafe.unique())==len(df.man.unique())"
   ]
  },
  {
   "cell_type": "code",
   "execution_count": 217,
   "id": "11a9e479-d0d1-4bfe-85aa-efe56b42890c",
   "metadata": {},
   "outputs": [],
   "source": [
    "brans = df.bran.unique()"
   ]
  },
  {
   "cell_type": "code",
   "execution_count": 218,
   "id": "cc3b2925-536d-434a-8a05-2f5b02d19ab3",
   "metadata": {},
   "outputs": [],
   "source": [
    "df['bransafe'] = df.bran.apply(to_filename)"
   ]
  },
  {
   "cell_type": "code",
   "execution_count": 219,
   "id": "0cdd48b9-ec68-415b-9299-003447bade50",
   "metadata": {},
   "outputs": [
    {
     "data": {
      "text/plain": [
       "True"
      ]
     },
     "execution_count": 219,
     "metadata": {},
     "output_type": "execute_result"
    }
   ],
   "source": [
    "len(df.bransafe.unique())==len(df.bran.unique())"
   ]
  },
  {
   "cell_type": "code",
   "execution_count": 221,
   "id": "308e9f21-abc4-4798-9080-91953b6bef5c",
   "metadata": {},
   "outputs": [],
   "source": [
    "df.to_pickle('reconc.pkl')"
   ]
  },
  {
   "cell_type": "code",
   "execution_count": 239,
   "id": "69b242a1-28ce-45dd-ba14-5bcb8e0d4cf3",
   "metadata": {},
   "outputs": [
    {
     "data": {
      "text/plain": [
       "Index(['cat', 'man', 'bran', 'year', 'circa', 'xd', 'gd', 'cd', 'td', 's',\n",
       "       'storfor', 'omit', 'locbox', 'locbag', 'expos', 'backp', 'processname',\n",
       "       'processlink', 'processaata', 'cat', 'manid', 'branid', 'mansafe',\n",
       "       'bransafe'],\n",
       "      dtype='object')"
      ]
     },
     "execution_count": 239,
     "metadata": {},
     "output_type": "execute_result"
    }
   ],
   "source": [
    "df.columns"
   ]
  },
  {
   "cell_type": "code",
   "execution_count": 241,
   "id": "a709db5f-8c99-4525-a103-370bbf978fed",
   "metadata": {},
   "outputs": [
    {
     "data": {
      "text/html": [
       "<div>\n",
       "<style scoped>\n",
       "    .dataframe tbody tr th:only-of-type {\n",
       "        vertical-align: middle;\n",
       "    }\n",
       "\n",
       "    .dataframe tbody tr th {\n",
       "        vertical-align: top;\n",
       "    }\n",
       "\n",
       "    .dataframe thead th {\n",
       "        text-align: right;\n",
       "    }\n",
       "</style>\n",
       "<table border=\"1\" class=\"dataframe\">\n",
       "  <thead>\n",
       "    <tr style=\"text-align: right;\">\n",
       "      <th></th>\n",
       "      <th>cat</th>\n",
       "      <th>man</th>\n",
       "      <th>bran</th>\n",
       "      <th>year</th>\n",
       "      <th>circa</th>\n",
       "      <th>xd</th>\n",
       "      <th>gd</th>\n",
       "      <th>cd</th>\n",
       "      <th>td</th>\n",
       "      <th>s</th>\n",
       "      <th>...</th>\n",
       "      <th>expos</th>\n",
       "      <th>backp</th>\n",
       "      <th>processname</th>\n",
       "      <th>processlink</th>\n",
       "      <th>processaata</th>\n",
       "      <th>cat</th>\n",
       "      <th>manid</th>\n",
       "      <th>branid</th>\n",
       "      <th>mansafe</th>\n",
       "      <th>bransafe</th>\n",
       "    </tr>\n",
       "  </thead>\n",
       "  <tbody>\n",
       "    <tr>\n",
       "      <th>0</th>\n",
       "      <td>996</td>\n",
       "      <td>Kodak</td>\n",
       "      <td>Solio</td>\n",
       "      <td>1890</td>\n",
       "      <td>1</td>\n",
       "      <td>[texture unspecified]</td>\n",
       "      <td>[gloss unspecified]</td>\n",
       "      <td>[base color unspecified]</td>\n",
       "      <td>[weight unspecified]</td>\n",
       "      <td>[not specified]</td>\n",
       "      <td>...</td>\n",
       "      <td>NaN</td>\n",
       "      <td>NaN</td>\n",
       "      <td>gelatin silver process</td>\n",
       "      <td>http://vocab.getty.edu/aat/300139114</td>\n",
       "      <td>300139114</td>\n",
       "      <td>996</td>\n",
       "      <td>http://www.wikidata.org/entity/Q486269</td>\n",
       "      <td>NaN</td>\n",
       "      <td>kodak</td>\n",
       "      <td>solio</td>\n",
       "    </tr>\n",
       "    <tr>\n",
       "      <th>1</th>\n",
       "      <td>5443</td>\n",
       "      <td>DuVoll's Paper</td>\n",
       "      <td>Halo Bome</td>\n",
       "      <td>1890</td>\n",
       "      <td>1</td>\n",
       "      <td>[texture unspecified]</td>\n",
       "      <td>[gloss unspecified]</td>\n",
       "      <td>[base color unspecified]</td>\n",
       "      <td>[weight unspecified]</td>\n",
       "      <td>[not specified]</td>\n",
       "      <td>...</td>\n",
       "      <td>NaN</td>\n",
       "      <td>NaN</td>\n",
       "      <td>gelatin silver process</td>\n",
       "      <td>http://vocab.getty.edu/aat/300139114</td>\n",
       "      <td>300139114</td>\n",
       "      <td>5443</td>\n",
       "      <td>NaN</td>\n",
       "      <td>NaN</td>\n",
       "      <td>duvolls_paper</td>\n",
       "      <td>halo_bome</td>\n",
       "    </tr>\n",
       "    <tr>\n",
       "      <th>2</th>\n",
       "      <td>366</td>\n",
       "      <td>American Aristotype</td>\n",
       "      <td>Aristo</td>\n",
       "      <td>1896</td>\n",
       "      <td>0</td>\n",
       "      <td>[texture unspecified]</td>\n",
       "      <td>[gloss unspecified]</td>\n",
       "      <td>[base color unspecified]</td>\n",
       "      <td>[weight unspecified]</td>\n",
       "      <td>[not specified]</td>\n",
       "      <td>...</td>\n",
       "      <td>NaN</td>\n",
       "      <td>NaN</td>\n",
       "      <td>gelatin silver process</td>\n",
       "      <td>http://vocab.getty.edu/aat/300139114</td>\n",
       "      <td>300139114</td>\n",
       "      <td>366</td>\n",
       "      <td>http://viaf.org/viaf/131668213</td>\n",
       "      <td>NaN</td>\n",
       "      <td>american_aristotype</td>\n",
       "      <td>aristo</td>\n",
       "    </tr>\n",
       "    <tr>\n",
       "      <th>3</th>\n",
       "      <td>1452</td>\n",
       "      <td>American Self-Toning</td>\n",
       "      <td>Self-Toning</td>\n",
       "      <td>1898</td>\n",
       "      <td>1</td>\n",
       "      <td>Linen</td>\n",
       "      <td>[gloss unspecified]</td>\n",
       "      <td>[base color unspecified]</td>\n",
       "      <td>[weight unspecified]</td>\n",
       "      <td>[not specified]</td>\n",
       "      <td>...</td>\n",
       "      <td>NaN</td>\n",
       "      <td>NaN</td>\n",
       "      <td>gelatin silver process</td>\n",
       "      <td>http://vocab.getty.edu/aat/300139114</td>\n",
       "      <td>300139114</td>\n",
       "      <td>1452</td>\n",
       "      <td>NaN</td>\n",
       "      <td>NaN</td>\n",
       "      <td>american_self-toning</td>\n",
       "      <td>self-toning</td>\n",
       "    </tr>\n",
       "    <tr>\n",
       "      <th>4</th>\n",
       "      <td>5563</td>\n",
       "      <td>Kodak</td>\n",
       "      <td>Solio</td>\n",
       "      <td>1898</td>\n",
       "      <td>0</td>\n",
       "      <td>[texture unspecified]</td>\n",
       "      <td>Glossy</td>\n",
       "      <td>Pearly White</td>\n",
       "      <td>[weight unspecified]</td>\n",
       "      <td>Pensé (Velox)</td>\n",
       "      <td>...</td>\n",
       "      <td>NaN</td>\n",
       "      <td>NaN</td>\n",
       "      <td>gelatin silver process</td>\n",
       "      <td>http://vocab.getty.edu/aat/300139114</td>\n",
       "      <td>300139114</td>\n",
       "      <td>5563</td>\n",
       "      <td>http://www.wikidata.org/entity/Q486269</td>\n",
       "      <td>NaN</td>\n",
       "      <td>kodak</td>\n",
       "      <td>solio</td>\n",
       "    </tr>\n",
       "    <tr>\n",
       "      <th>...</th>\n",
       "      <td>...</td>\n",
       "      <td>...</td>\n",
       "      <td>...</td>\n",
       "      <td>...</td>\n",
       "      <td>...</td>\n",
       "      <td>...</td>\n",
       "      <td>...</td>\n",
       "      <td>...</td>\n",
       "      <td>...</td>\n",
       "      <td>...</td>\n",
       "      <td>...</td>\n",
       "      <td>...</td>\n",
       "      <td>...</td>\n",
       "      <td>...</td>\n",
       "      <td>...</td>\n",
       "      <td>...</td>\n",
       "      <td>...</td>\n",
       "      <td>...</td>\n",
       "      <td>...</td>\n",
       "      <td>...</td>\n",
       "      <td>...</td>\n",
       "    </tr>\n",
       "    <tr>\n",
       "      <th>7169</th>\n",
       "      <td>5245</td>\n",
       "      <td>Foma</td>\n",
       "      <td>Fomatone MG</td>\n",
       "      <td>2006</td>\n",
       "      <td>1</td>\n",
       "      <td>[texture unspecified]</td>\n",
       "      <td>Matte</td>\n",
       "      <td>Chamois</td>\n",
       "      <td>Natural</td>\n",
       "      <td>542</td>\n",
       "      <td>...</td>\n",
       "      <td>NaN</td>\n",
       "      <td>NaN</td>\n",
       "      <td>gelatin silver process</td>\n",
       "      <td>http://vocab.getty.edu/aat/300139114</td>\n",
       "      <td>300139114</td>\n",
       "      <td>5245</td>\n",
       "      <td>http://www.wikidata.org/entity/Q1435608</td>\n",
       "      <td>NaN</td>\n",
       "      <td>foma</td>\n",
       "      <td>fomatone_mg</td>\n",
       "    </tr>\n",
       "    <tr>\n",
       "      <th>7170</th>\n",
       "      <td>5417</td>\n",
       "      <td>Slavich Photographic Paper</td>\n",
       "      <td>Unibrom</td>\n",
       "      <td>2006</td>\n",
       "      <td>0</td>\n",
       "      <td>Smooth</td>\n",
       "      <td>Glossy</td>\n",
       "      <td>[base color unspecified]</td>\n",
       "      <td>Medium Weight</td>\n",
       "      <td>[not specified]</td>\n",
       "      <td>...</td>\n",
       "      <td>NaN</td>\n",
       "      <td>NaN</td>\n",
       "      <td>gelatin silver process</td>\n",
       "      <td>http://vocab.getty.edu/aat/300139114</td>\n",
       "      <td>300139114</td>\n",
       "      <td>5417</td>\n",
       "      <td>NaN</td>\n",
       "      <td>NaN</td>\n",
       "      <td>slavich_photographic_paper</td>\n",
       "      <td>unibrom</td>\n",
       "    </tr>\n",
       "    <tr>\n",
       "      <th>7171</th>\n",
       "      <td>2993</td>\n",
       "      <td>Kodak</td>\n",
       "      <td>Polymax Fine Art</td>\n",
       "      <td>2008</td>\n",
       "      <td>0</td>\n",
       "      <td>Smooth</td>\n",
       "      <td>Glossy</td>\n",
       "      <td>White</td>\n",
       "      <td>Double Weight</td>\n",
       "      <td>F</td>\n",
       "      <td>...</td>\n",
       "      <td>NaN</td>\n",
       "      <td>NaN</td>\n",
       "      <td>gelatin silver process</td>\n",
       "      <td>http://vocab.getty.edu/aat/300139114</td>\n",
       "      <td>300139114</td>\n",
       "      <td>2993</td>\n",
       "      <td>http://www.wikidata.org/entity/Q486269</td>\n",
       "      <td>NaN</td>\n",
       "      <td>kodak</td>\n",
       "      <td>polymax_fine_art</td>\n",
       "    </tr>\n",
       "    <tr>\n",
       "      <th>7172</th>\n",
       "      <td>5023</td>\n",
       "      <td>Foma</td>\n",
       "      <td>Fomatone MG</td>\n",
       "      <td>2010</td>\n",
       "      <td>1</td>\n",
       "      <td>[texture unspecified]</td>\n",
       "      <td>[gloss unspecified]</td>\n",
       "      <td>[base color unspecified]</td>\n",
       "      <td>[weight unspecified]</td>\n",
       "      <td>[not specified]</td>\n",
       "      <td>...</td>\n",
       "      <td>NaN</td>\n",
       "      <td>NaN</td>\n",
       "      <td>gelatin silver process</td>\n",
       "      <td>http://vocab.getty.edu/aat/300139114</td>\n",
       "      <td>300139114</td>\n",
       "      <td>5023</td>\n",
       "      <td>http://www.wikidata.org/entity/Q1435608</td>\n",
       "      <td>NaN</td>\n",
       "      <td>foma</td>\n",
       "      <td>fomatone_mg</td>\n",
       "    </tr>\n",
       "    <tr>\n",
       "      <th>7173</th>\n",
       "      <td>5353</td>\n",
       "      <td>Oriental</td>\n",
       "      <td>Seagull</td>\n",
       "      <td>2012</td>\n",
       "      <td>1</td>\n",
       "      <td>Smooth</td>\n",
       "      <td>Glossy</td>\n",
       "      <td>Pure White</td>\n",
       "      <td>Double Weight</td>\n",
       "      <td>G</td>\n",
       "      <td>...</td>\n",
       "      <td>NaN</td>\n",
       "      <td>NaN</td>\n",
       "      <td>gelatin silver process</td>\n",
       "      <td>http://vocab.getty.edu/aat/300139114</td>\n",
       "      <td>300139114</td>\n",
       "      <td>5353</td>\n",
       "      <td>NaN</td>\n",
       "      <td>NaN</td>\n",
       "      <td>oriental</td>\n",
       "      <td>seagull</td>\n",
       "    </tr>\n",
       "  </tbody>\n",
       "</table>\n",
       "<p>7174 rows × 24 columns</p>\n",
       "</div>"
      ],
      "text/plain": [
       "       cat                         man              bran  year  circa  \\\n",
       "0      996                       Kodak             Solio  1890      1   \n",
       "1     5443              DuVoll's Paper         Halo Bome  1890      1   \n",
       "2      366         American Aristotype            Aristo  1896      0   \n",
       "3     1452        American Self-Toning       Self-Toning  1898      1   \n",
       "4     5563                       Kodak             Solio  1898      0   \n",
       "...    ...                         ...               ...   ...    ...   \n",
       "7169  5245                        Foma       Fomatone MG  2006      1   \n",
       "7170  5417  Slavich Photographic Paper           Unibrom  2006      0   \n",
       "7171  2993                       Kodak  Polymax Fine Art  2008      0   \n",
       "7172  5023                        Foma       Fomatone MG  2010      1   \n",
       "7173  5353                    Oriental           Seagull  2012      1   \n",
       "\n",
       "                         xd                   gd                        cd  \\\n",
       "0     [texture unspecified]  [gloss unspecified]  [base color unspecified]   \n",
       "1     [texture unspecified]  [gloss unspecified]  [base color unspecified]   \n",
       "2     [texture unspecified]  [gloss unspecified]  [base color unspecified]   \n",
       "3                     Linen  [gloss unspecified]  [base color unspecified]   \n",
       "4     [texture unspecified]               Glossy              Pearly White   \n",
       "...                     ...                  ...                       ...   \n",
       "7169  [texture unspecified]                Matte                   Chamois   \n",
       "7170                 Smooth               Glossy  [base color unspecified]   \n",
       "7171                 Smooth               Glossy                     White   \n",
       "7172  [texture unspecified]  [gloss unspecified]  [base color unspecified]   \n",
       "7173                 Smooth               Glossy                Pure White   \n",
       "\n",
       "                        td                s  ... expos  backp  \\\n",
       "0     [weight unspecified]  [not specified]  ...   NaN    NaN   \n",
       "1     [weight unspecified]  [not specified]  ...   NaN    NaN   \n",
       "2     [weight unspecified]  [not specified]  ...   NaN    NaN   \n",
       "3     [weight unspecified]  [not specified]  ...   NaN    NaN   \n",
       "4     [weight unspecified]    Pensé (Velox)  ...   NaN    NaN   \n",
       "...                    ...              ...  ...   ...    ...   \n",
       "7169               Natural              542  ...   NaN    NaN   \n",
       "7170         Medium Weight  [not specified]  ...   NaN    NaN   \n",
       "7171         Double Weight                F  ...   NaN    NaN   \n",
       "7172  [weight unspecified]  [not specified]  ...   NaN    NaN   \n",
       "7173         Double Weight                G  ...   NaN    NaN   \n",
       "\n",
       "                 processname                           processlink  \\\n",
       "0     gelatin silver process  http://vocab.getty.edu/aat/300139114   \n",
       "1     gelatin silver process  http://vocab.getty.edu/aat/300139114   \n",
       "2     gelatin silver process  http://vocab.getty.edu/aat/300139114   \n",
       "3     gelatin silver process  http://vocab.getty.edu/aat/300139114   \n",
       "4     gelatin silver process  http://vocab.getty.edu/aat/300139114   \n",
       "...                      ...                                   ...   \n",
       "7169  gelatin silver process  http://vocab.getty.edu/aat/300139114   \n",
       "7170  gelatin silver process  http://vocab.getty.edu/aat/300139114   \n",
       "7171  gelatin silver process  http://vocab.getty.edu/aat/300139114   \n",
       "7172  gelatin silver process  http://vocab.getty.edu/aat/300139114   \n",
       "7173  gelatin silver process  http://vocab.getty.edu/aat/300139114   \n",
       "\n",
       "      processaata   cat                                    manid branid  \\\n",
       "0       300139114   996   http://www.wikidata.org/entity/Q486269    NaN   \n",
       "1       300139114  5443                                      NaN    NaN   \n",
       "2       300139114   366           http://viaf.org/viaf/131668213    NaN   \n",
       "3       300139114  1452                                      NaN    NaN   \n",
       "4       300139114  5563   http://www.wikidata.org/entity/Q486269    NaN   \n",
       "...           ...   ...                                      ...    ...   \n",
       "7169    300139114  5245  http://www.wikidata.org/entity/Q1435608    NaN   \n",
       "7170    300139114  5417                                      NaN    NaN   \n",
       "7171    300139114  2993   http://www.wikidata.org/entity/Q486269    NaN   \n",
       "7172    300139114  5023  http://www.wikidata.org/entity/Q1435608    NaN   \n",
       "7173    300139114  5353                                      NaN    NaN   \n",
       "\n",
       "                         mansafe          bransafe  \n",
       "0                          kodak             solio  \n",
       "1                  duvolls_paper         halo_bome  \n",
       "2            american_aristotype            aristo  \n",
       "3           american_self-toning       self-toning  \n",
       "4                          kodak             solio  \n",
       "...                          ...               ...  \n",
       "7169                        foma       fomatone_mg  \n",
       "7170  slavich_photographic_paper           unibrom  \n",
       "7171                       kodak  polymax_fine_art  \n",
       "7172                        foma       fomatone_mg  \n",
       "7173                    oriental           seagull  \n",
       "\n",
       "[7174 rows x 24 columns]"
      ]
     },
     "execution_count": 241,
     "metadata": {},
     "output_type": "execute_result"
    }
   ],
   "source": [
    "df"
   ]
  },
  {
   "cell_type": "code",
   "execution_count": null,
   "id": "918ab9d6-7cd7-4981-8a89-dcea5e537ab8",
   "metadata": {},
   "outputs": [],
   "source": []
  }
 ],
 "metadata": {
  "kernelspec": {
   "display_name": "Python 3 (ipykernel)",
   "language": "python",
   "name": "python3"
  },
  "language_info": {
   "codemirror_mode": {
    "name": "ipython",
    "version": 3
   },
   "file_extension": ".py",
   "mimetype": "text/x-python",
   "name": "python",
   "nbconvert_exporter": "python",
   "pygments_lexer": "ipython3",
   "version": "3.10.4"
  }
 },
 "nbformat": 4,
 "nbformat_minor": 5
}
