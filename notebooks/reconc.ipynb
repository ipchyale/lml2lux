{
 "cells": [
  {
   "cell_type": "code",
   "execution_count": 1,
   "id": "d18118f6-8ae9-4e68-9e84-5c150ab7fa7d",
   "metadata": {},
   "outputs": [],
   "source": [
    "import pandas as pd\n",
    "import warnings\n",
    "warnings.filterwarnings('ignore')\n",
    "import unicodedata\n",
    "import re"
   ]
  },
  {
   "cell_type": "code",
   "execution_count": 2,
   "id": "9196fbab-4848-4692-8d59-af9495a0f621",
   "metadata": {},
   "outputs": [],
   "source": [
    "df = pd.read_csv(\"../sources/export_07_11_24.csv\", encoding='latin-1')"
   ]
  },
  {
   "cell_type": "code",
   "execution_count": 3,
   "id": "407f3912-b220-4540-93e6-2bcac1be2a04",
   "metadata": {},
   "outputs": [],
   "source": [
    "rf = pd.read_csv(\"../sources/lml-reconciled.csv\", encoding='latin-1')"
   ]
  },
  {
   "cell_type": "code",
   "execution_count": 4,
   "id": "83e2856d-6d27-4172-92df-7fcd255ef475",
   "metadata": {},
   "outputs": [],
   "source": [
    "df['Secondary Catalog Number'] = df['Secondary Catalog Number'].fillna('')"
   ]
  },
  {
   "cell_type": "code",
   "execution_count": 5,
   "id": "b68469e7-af0c-4bb5-a8ab-0935788ae590",
   "metadata": {},
   "outputs": [],
   "source": [
    "rf['Secondary Catalog Number'] = rf['Secondary Catalog Number'].fillna('')"
   ]
  },
  {
   "cell_type": "code",
   "execution_count": 6,
   "id": "3fc27cdc-9db6-4afa-aba4-49dcfb73cece",
   "metadata": {},
   "outputs": [],
   "source": [
    "def get_catalog_number(smp):\n",
    "    pcn = str(smp['Catalog Number'])\n",
    "    scn = smp.fillna('')['Secondary Catalog Number']\n",
    "\n",
    "    return pcn + scn"
   ]
  },
  {
   "cell_type": "code",
   "execution_count": 7,
   "id": "c69d4f98-1c60-4948-910a-58a6bef99267",
   "metadata": {},
   "outputs": [],
   "source": [
    "df['cat'] = [get_catalog_number(df.iloc[i]) for i in range(len(df))]"
   ]
  },
  {
   "cell_type": "code",
   "execution_count": 8,
   "id": "adb3eb3a-3727-4d14-9a38-39bb4592b79c",
   "metadata": {},
   "outputs": [],
   "source": [
    "rf['cat'] = [get_catalog_number(rf.iloc[i]) for i in range(len(rf))]"
   ]
  },
  {
   "cell_type": "code",
   "execution_count": 9,
   "id": "2250f464-d56a-418f-a352-9a4908d38bb0",
   "metadata": {},
   "outputs": [],
   "source": [
    "rf = rf[['cat','Manufacturer Equivalent IDs','Brand Equivalent IDs']]"
   ]
  },
  {
   "cell_type": "code",
   "execution_count": 10,
   "id": "45bce73c-1f83-4d90-b267-9ed7b40028bc",
   "metadata": {},
   "outputs": [],
   "source": [
    "rf = rf.drop_duplicates()"
   ]
  },
  {
   "cell_type": "code",
   "execution_count": 11,
   "id": "a04201ba-5bfc-4fcb-8d95-49aa5cd903c8",
   "metadata": {},
   "outputs": [],
   "source": [
    "df = df.join(rf.set_index('cat'),'cat')"
   ]
  },
  {
   "cell_type": "code",
   "execution_count": 12,
   "id": "81fee082-5cac-48eb-94c3-1b3394b7bb5f",
   "metadata": {},
   "outputs": [],
   "source": [
    "#df.ProcessName = df.ProcessName.apply(lambda x:x.strip('\\t'))"
   ]
  },
  {
   "cell_type": "code",
   "execution_count": 13,
   "id": "70000c13-6256-41b2-bb21-379374efe961",
   "metadata": {},
   "outputs": [],
   "source": [
    "#df.Link = df.Link.apply(lambda x: 'http://vocab.getty.edu/' + \"/\".join(x.strip(\"#\").split(\"/\")[-2:]))"
   ]
  },
  {
   "cell_type": "code",
   "execution_count": 14,
   "id": "65b0aca6-7be9-46a4-8391-1505f3c887dc",
   "metadata": {},
   "outputs": [],
   "source": [
    "df['objectid'] = [f'{abs(item)}' for item in df.PhotoID]"
   ]
  },
  {
   "cell_type": "code",
   "execution_count": 15,
   "id": "af88ffae-a9c7-47c1-b500-ef0838df497a",
   "metadata": {},
   "outputs": [
    {
     "data": {
      "text/plain": [
       "Index(['PhotoID', 'Year', 'DateUncertain', 'Catalog Number',\n",
       "       'Secondary Catalog Number', 'Manufacturer', 'Brand', 'Format',\n",
       "       'Texture2', 'Reflectance2', 'BaseColor2', 'Weight2',\n",
       "       'SurfaceDesignation2', 'Omit_from_Paperbase', 'LocationBox',\n",
       "       'LocationBag', 'Exposure', 'BackprintingPrimary', 'Postcards', 'Toner',\n",
       "       'Resin_coated?', 'ProcessName', 'Link', 'AATA_ID', 'cat',\n",
       "       'Manufacturer Equivalent IDs', 'Brand Equivalent IDs', 'objectid'],\n",
       "      dtype='object')"
      ]
     },
     "execution_count": 15,
     "metadata": {},
     "output_type": "execute_result"
    }
   ],
   "source": [
    "df.columns"
   ]
  },
  {
   "cell_type": "code",
   "execution_count": 16,
   "id": "72c40ff5-1f57-4cca-a370-3a859870e3cf",
   "metadata": {},
   "outputs": [],
   "source": [
    "df.columns = ['photoid','year','circa','catalog','catalog2','man','bran','storfor','xd','gd','cd','td','s','omit',\n",
    "              'locbox','locbag','expos','backp','postcards','toner','rc','processname','processlink','processaata',\n",
    "              'cat','manid','branid','objectid']"
   ]
  },
  {
   "cell_type": "code",
   "execution_count": 17,
   "id": "2d05e7ca-0208-4cdc-b5bf-a521919ef775",
   "metadata": {},
   "outputs": [],
   "source": [
    "df = df[['objectid','cat','man','bran','year','circa','xd','gd','cd','td','s','storfor','omit',\n",
    "        'locbox','locbag','expos','backp','manid','branid']]"
   ]
  },
  {
   "cell_type": "code",
   "execution_count": 18,
   "id": "a2f063c8-e7ec-404a-a3af-c5fc3f258a44",
   "metadata": {},
   "outputs": [],
   "source": [
    "df.manid.loc[df.man=='Autotype'] = 'http://viaf.org/viaf/131563321'\n",
    "df.manid.loc[df.man=='Foton'] = 'http://www.wikidata.org/entity/Q115823390'"
   ]
  },
  {
   "cell_type": "code",
   "execution_count": 19,
   "id": "613103fb-a117-4b31-8883-e5fd732567ac",
   "metadata": {},
   "outputs": [],
   "source": [
    "df.manid.loc[df.man=='Kodak London'] = 'http://viaf.org/viaf/150021959'"
   ]
  },
  {
   "cell_type": "code",
   "execution_count": 20,
   "id": "36f12358-3036-45be-8060-751a016e3673",
   "metadata": {},
   "outputs": [],
   "source": [
    "def parse_set(st):\n",
    "    if len(st) > 1:\n",
    "        nonnans = [item for item in st if not pd.isna(item)]\n",
    "        assert len(nonnans)==1\n",
    "        return nonnans[0]\n",
    "    elif len(st)==1:\n",
    "        nonnans = [item for item in st if not pd.isna(item)]\n",
    "        if len(nonnans) > 0:\n",
    "            return nonnans[0]\n",
    "    else:\n",
    "        print('err')"
   ]
  },
  {
   "cell_type": "markdown",
   "id": "a916c23d-edec-4442-8730-ecd525521770",
   "metadata": {},
   "source": [
    "#### filling in manids and branids"
   ]
  },
  {
   "cell_type": "code",
   "execution_count": 21,
   "id": "b597a063-18cb-4d11-aa34-a3932836b93d",
   "metadata": {},
   "outputs": [],
   "source": [
    "tmp = df[['man','manid']].groupby('man').agg(set)\n",
    "tmp.manid = tmp.manid.apply(parse_set)\n",
    "d = tmp.to_dict()['manid']\n",
    "df.manid = [d[item] for item in df.man]"
   ]
  },
  {
   "cell_type": "code",
   "execution_count": 22,
   "id": "3f78d2c6-b4b1-40d4-a98e-b1442fe7fef7",
   "metadata": {},
   "outputs": [],
   "source": [
    "tmp = df[['bran','branid']].groupby('bran').agg(set)\n",
    "tmp.branid = tmp.branid.apply(parse_set)\n",
    "d = tmp.to_dict()['branid']\n",
    "df.branid = [d[item] for item in df.bran]"
   ]
  },
  {
   "cell_type": "code",
   "execution_count": 23,
   "id": "c11eb511-c7fb-49ae-9457-e2886068a54c",
   "metadata": {},
   "outputs": [],
   "source": [
    "def to_filename(name):\n",
    "\n",
    "    if pd.isna(name):\n",
    "        return None\n",
    "\n",
    "    name = name.strip()\n",
    "    \n",
    "    normalized_name = unicodedata.normalize('NFKD', name).encode('ascii', 'ignore').decode('ascii')\n",
    "\n",
    "    safe_name = normalized_name.replace('&', 'and')\n",
    "    \n",
    "    safe_name = re.sub(r\"[\\/\\\\\\:\\*\\?\\\"\\<\\>\\|\\#\\%\\&\\{\\}\\\\\\<\\>\\*\\?\\$\\/\\'\\\"\\:\\@\\+\\`|=!]\", \"\", safe_name)\n",
    "    \n",
    "    safe_name = re.sub(r\"\\s+\", \"_\", safe_name)\n",
    "\n",
    "    return safe_name"
   ]
  },
  {
   "cell_type": "code",
   "execution_count": 24,
   "id": "57f8b855-7da1-4dce-8656-65f87900dd92",
   "metadata": {},
   "outputs": [
    {
     "data": {
      "text/plain": [
       "True"
      ]
     },
     "execution_count": 24,
     "metadata": {},
     "output_type": "execute_result"
    }
   ],
   "source": [
    "df['mansafe'] = df.man.apply(to_filename)\n",
    "len(df.mansafe.unique())==len(df.man.unique())"
   ]
  },
  {
   "cell_type": "code",
   "execution_count": 25,
   "id": "cc3b2925-536d-434a-8a05-2f5b02d19ab3",
   "metadata": {},
   "outputs": [
    {
     "data": {
      "text/plain": [
       "True"
      ]
     },
     "execution_count": 25,
     "metadata": {},
     "output_type": "execute_result"
    }
   ],
   "source": [
    "df['bransafe'] = df.bran.apply(to_filename)\n",
    "len(df.bransafe.unique())==len(df.bran.unique())"
   ]
  },
  {
   "cell_type": "code",
   "execution_count": 26,
   "id": "0cdd48b9-ec68-415b-9299-003447bade50",
   "metadata": {},
   "outputs": [
    {
     "data": {
      "text/plain": [
       "True"
      ]
     },
     "execution_count": 26,
     "metadata": {},
     "output_type": "execute_result"
    }
   ],
   "source": [
    "df['xdsafe'] = df.xd.apply(to_filename)\n",
    "len(df.xdsafe.unique())==len(df.xd.unique())"
   ]
  },
  {
   "cell_type": "code",
   "execution_count": 27,
   "id": "2e8d6cf9-bc6e-4b19-8c89-86257e0b3409",
   "metadata": {},
   "outputs": [
    {
     "data": {
      "text/plain": [
       "True"
      ]
     },
     "execution_count": 27,
     "metadata": {},
     "output_type": "execute_result"
    }
   ],
   "source": [
    "df['gdsafe'] = df.gd.apply(to_filename)\n",
    "len(df.gdsafe.unique())==len(df.gd.unique())"
   ]
  },
  {
   "cell_type": "code",
   "execution_count": 28,
   "id": "4eb10cbb-e0c5-4d11-b66d-b5b8af5e0edf",
   "metadata": {},
   "outputs": [
    {
     "data": {
      "text/plain": [
       "True"
      ]
     },
     "execution_count": 28,
     "metadata": {},
     "output_type": "execute_result"
    }
   ],
   "source": [
    "df['cdsafe'] = df.cd.apply(to_filename)\n",
    "len(df.cdsafe.unique())==len(df.cd.unique())"
   ]
  },
  {
   "cell_type": "code",
   "execution_count": 29,
   "id": "c4311606-145d-4005-a8a0-6058f4133a17",
   "metadata": {},
   "outputs": [
    {
     "data": {
      "text/plain": [
       "True"
      ]
     },
     "execution_count": 29,
     "metadata": {},
     "output_type": "execute_result"
    }
   ],
   "source": [
    "df['tdsafe'] = df.td.apply(to_filename)\n",
    "len(df.tdsafe.unique())==len(df.td.unique())"
   ]
  },
  {
   "cell_type": "code",
   "execution_count": 30,
   "id": "b4c218e6-4fde-444e-813b-95e5283bd22e",
   "metadata": {},
   "outputs": [
    {
     "data": {
      "text/plain": [
       "True"
      ]
     },
     "execution_count": 30,
     "metadata": {},
     "output_type": "execute_result"
    }
   ],
   "source": [
    "df['ssafe'] = df.s.apply(to_filename)\n",
    "len(df.ssafe.unique())==len(df.s.unique())"
   ]
  },
  {
   "cell_type": "code",
   "execution_count": 31,
   "id": "2d51e099-f2e4-479b-a3c6-688bcefb16fe",
   "metadata": {},
   "outputs": [
    {
     "data": {
      "text/plain": [
       "True"
      ]
     },
     "execution_count": 31,
     "metadata": {},
     "output_type": "execute_result"
    }
   ],
   "source": [
    "df['backpsafe'] = df.backp.apply(to_filename)\n",
    "len(df.backpsafe.unique())==len(df.backp.unique())"
   ]
  },
  {
   "cell_type": "code",
   "execution_count": 32,
   "id": "adfb0d81-d547-4a97-9cca-d942689cade7",
   "metadata": {},
   "outputs": [],
   "source": [
    "#df.processlink.loc[df.processlink=='http://vocab.getty.edu/vow/AATFullDisplay?find=&logic=AND&note=&page=1&subjectid=300149146'] = 'http://vocab.getty.edu/aat/300149146'"
   ]
  },
  {
   "cell_type": "code",
   "execution_count": 33,
   "id": "308e9f21-abc4-4798-9080-91953b6bef5c",
   "metadata": {},
   "outputs": [],
   "source": [
    "df.to_pickle('reconc.pkl')"
   ]
  },
  {
   "cell_type": "code",
   "execution_count": 34,
   "id": "5016428e-d9ab-4081-a093-f0265b52d381",
   "metadata": {},
   "outputs": [],
   "source": [
    "df.to_csv('reconc.csv',index=False)"
   ]
  }
 ],
 "metadata": {
  "kernelspec": {
   "display_name": "Python 3 (ipykernel)",
   "language": "python",
   "name": "python3"
  },
  "language_info": {
   "codemirror_mode": {
    "name": "ipython",
    "version": 3
   },
   "file_extension": ".py",
   "mimetype": "text/x-python",
   "name": "python",
   "nbconvert_exporter": "python",
   "pygments_lexer": "ipython3",
   "version": "3.10.4"
  }
 },
 "nbformat": 4,
 "nbformat_minor": 5
}
