{
 "cells": [
  {
   "cell_type": "code",
   "execution_count": 1,
   "id": "d18118f6-8ae9-4e68-9e84-5c150ab7fa7d",
   "metadata": {},
   "outputs": [],
   "source": [
    "import pandas as pd"
   ]
  },
  {
   "cell_type": "code",
   "execution_count": 2,
   "id": "9196fbab-4848-4692-8d59-af9495a0f621",
   "metadata": {},
   "outputs": [],
   "source": [
    "df = pd.read_csv(\"export_06_05_24.csv\", encoding='latin-1')"
   ]
  },
  {
   "cell_type": "code",
   "execution_count": 3,
   "id": "52fec21d-9b9a-4278-af82-17251c6e408b",
   "metadata": {},
   "outputs": [],
   "source": [
    "from cromulent import model, vocab\n",
    "import json"
   ]
  },
  {
   "cell_type": "code",
   "execution_count": 4,
   "id": "c36a5204-9369-4064-a459-79a634376dca",
   "metadata": {},
   "outputs": [],
   "source": [
    "smp = df.iloc[0]"
   ]
  },
  {
   "cell_type": "code",
   "execution_count": 5,
   "id": "3d6a14cf-ec02-41fc-afb4-4722340629c1",
   "metadata": {},
   "outputs": [],
   "source": [
    "def photo_id_stringify(photoid):\n",
    "    s = str(photoid)\n",
    "    if s[0] == '-':\n",
    "        return f'm{s[1:]}'\n",
    "    else:\n",
    "        return f'p{s}'"
   ]
  },
  {
   "cell_type": "code",
   "execution_count": 6,
   "id": "b61768e4-c515-404c-9fed-0e984902d867",
   "metadata": {},
   "outputs": [],
   "source": [
    "def record_label(rec):\n",
    "    man = rec.Manufacturer\n",
    "    bran = rec.Brand\n",
    "    year = str(rec.Year)\n",
    "\n",
    "    return f'{man} {bran} {year}'"
   ]
  },
  {
   "cell_type": "code",
   "execution_count": 7,
   "id": "2bc03a60-1158-4926-88e9-70bb30b24325",
   "metadata": {},
   "outputs": [],
   "source": [
    "# PhotoID to URI\n",
    "paper = model.HumanMadeObject(ident=photo_id_stringify(smp.PhotoID), label=record_label(smp))"
   ]
  },
  {
   "cell_type": "markdown",
   "id": "3b06117d-a8bc-4d8d-83f2-4cb5878fc9f0",
   "metadata": {},
   "source": [
    "# Does the label need to be unique?"
   ]
  },
  {
   "cell_type": "markdown",
   "id": "9ae3e18f-e5b9-4532-9be9-f66257111a72",
   "metadata": {},
   "source": [
    "# Does the identifier need to start with a letter?"
   ]
  },
  {
   "cell_type": "code",
   "execution_count": 9,
   "id": "e7701f43-c1e1-4dd0-a96c-1ecb914d6df8",
   "metadata": {},
   "outputs": [],
   "source": [
    "def create_timespan(smp):\n",
    "    year = smp.Year\n",
    "    uncertain = smp.DateUncertain\n",
    "\n",
    "    assert len(str(year))==4\n",
    "    try:\n",
    "        int(year)\n",
    "    except:\n",
    "        return None\n",
    "\n",
    "    year = str(year)\n",
    "    botb = f'{year}-01-01T00:00:00Z'\n",
    "    eote = f'{year}-12-31T23:59:59Z'\n",
    "\n",
    "    if uncertain:\n",
    "        dns = f'circa {year}'\n",
    "    else:\n",
    "        dns = year\n",
    "\n",
    "    return botb, eote, dns"
   ]
  },
  {
   "cell_type": "code",
   "execution_count": 10,
   "id": "5735d3f0-76e4-432f-a25c-641311a89a8f",
   "metadata": {},
   "outputs": [],
   "source": [
    "# Year, DateUncertain to Prod/Date\n",
    "prod = model.Production()\n",
    "paper.produced_by = prod\n",
    "ts = model.TimeSpan()\n",
    "botb, eote, dns = create_timespan(smp)\n",
    "ts.begin_of_the_begin = botb\n",
    "ts.end_of_the_end = eote\n",
    "dn = vocab.DisplayName(content=dns)\n",
    "ts.identified_by = dn\n",
    "prod.timespan = ts"
   ]
  },
  {
   "cell_type": "code",
   "execution_count": 18,
   "id": "b7720ab6-4071-4580-80bb-b3fe44173821",
   "metadata": {},
   "outputs": [],
   "source": [
    "def get_catalog_number(smp):\n",
    "    pcn = str(smp['Catalog Number'])\n",
    "    scn = smp.fillna('')['Secondary Catalog Number']\n",
    "\n",
    "    return pcn + scn"
   ]
  },
  {
   "cell_type": "code",
   "execution_count": 19,
   "id": "bcc56d80-3413-4e3a-9f97-c0b1f932ade3",
   "metadata": {},
   "outputs": [],
   "source": [
    "# Catalog Number, Secondary Catalog Number\n",
    "# No information about the thing with this number\n",
    "# Smush it in as call number by merging\n",
    "paper.identified_by = model.Identifier(content=get_catalog_number(smp))"
   ]
  },
  {
   "cell_type": "code",
   "execution_count": 20,
   "id": "ada2adc2-9ef1-4290-b19f-1772b6bc5b40",
   "metadata": {},
   "outputs": [],
   "source": [
    "# Manufacturer = Group that made this thing\n",
    "# There needs to be a separate record with a Name\n",
    "prod.carried_out_by = model.Group(ident=smp.Manufacturer.lower(), label=smp.Manufacturer.lower())"
   ]
  },
  {
   "cell_type": "code",
   "execution_count": 21,
   "id": "88cc3db0-d6a4-45b6-8e1b-85ba7bc7d91e",
   "metadata": {},
   "outputs": [],
   "source": [
    "def name_constructor(smp):\n",
    "    man = smp.Manufacturer\n",
    "    bran = smp.Brand\n",
    "    year = str(smp.Year)\n",
    "\n",
    "    return f'{man} {bran} Paper from {create_timespan(smp)[2]}'"
   ]
  },
  {
   "cell_type": "code",
   "execution_count": 22,
   "id": "c3354533-3e4d-41ff-b440-f4f47185d08f",
   "metadata": {},
   "outputs": [],
   "source": [
    "# But ... We need a name\n",
    "# Construct it from multiple fields?\n",
    "paper.identified_by = vocab.PrimaryName(content=name_constructor(smp))"
   ]
  },
  {
   "cell_type": "code",
   "execution_count": 24,
   "id": "21f5bfa3-9c3b-47f8-8f1c-6200fc07ac95",
   "metadata": {},
   "outputs": [],
   "source": [
    "# Format = Description\n",
    "paper.referred_to_by = vocab.Description(content=smp.Format)"
   ]
  },
  {
   "cell_type": "code",
   "execution_count": 25,
   "id": "392a5283-3a78-4b7f-96ae-455d89a05569",
   "metadata": {},
   "outputs": [],
   "source": [
    "# metatype: http://vocab.getty.edu/aat/300248479\n",
    "paper.referred_to_by = model.LinguisticObject(content=f'Box {smp.LocationBox}, Bag {smp.LocationBag}')"
   ]
  },
  {
   "cell_type": "code",
   "execution_count": 26,
   "id": "0777fd3c-703d-4e1e-bf23-15b9cc99a54a",
   "metadata": {},
   "outputs": [],
   "source": [
    "# Not sure what to do about surface designation -- statement? Not comprehensible by itself\n",
    "# TODO: add a custom display label \"Manufacturer Surface Designation\" (or something)\n",
    "paper.referred_to_by = vocab.Note(content=smp.SurfaceDesignation2)"
   ]
  },
  {
   "cell_type": "code",
   "execution_count": 27,
   "id": "fe8905fa-7bae-489a-a625-1b8d0b29df7b",
   "metadata": {},
   "outputs": [],
   "source": [
    "# Texture, Reflectance, Color, Weight -- classifications\n",
    "# TODO - these need metatypes to convey the sort of classification\n",
    "paper.classified_as = model.Type(ident=f'texture/{smp.Texture2}')\n",
    "paper.classified_as = model.Type(ident=f'gloss/{smp.Reflectance2}')\n",
    "paper.classified_as = model.Type(ident=f'color/{smp.BaseColor2}')\n",
    "paper.classified_as = model.Type(ident=f'weight/{smp.Weight2}')"
   ]
  },
  {
   "cell_type": "code",
   "execution_count": 29,
   "id": "f35d5b2f-d01f-456a-ba56-0be07f97ae61",
   "metadata": {},
   "outputs": [],
   "source": [
    "# TODO: Brand -- yet another classification?\n",
    "js = model.factory.toJSON(paper)\n",
    "rec = json.dumps(js, indent=2)\n",
    "#print(rec)"
   ]
  },
  {
   "cell_type": "markdown",
   "id": "45e43967-b180-4cd9-ba44-6df631613d9a",
   "metadata": {},
   "source": [
    "# Missing values?"
   ]
  },
  {
   "cell_type": "code",
   "execution_count": 32,
   "id": "4de5eedd-7b69-4c7f-9eda-74aa00785b13",
   "metadata": {},
   "outputs": [
    {
     "data": {
      "text/plain": [
       "Manufacturer\n",
       "Kodak                         2372\n",
       "Ilford                         602\n",
       "Ansco                          482\n",
       "DuPont                         414\n",
       "DuPont Defender                380\n",
       "Kodak London                   364\n",
       "Agfa Gevaert                   325\n",
       "Gevaert                        293\n",
       "Defender                       278\n",
       "Agfa                           239\n",
       "Neobrom                        231\n",
       "Ansco GAF                      187\n",
       "Mimosa                         177\n",
       "Leonar                          84\n",
       "Agfa Ansco                      82\n",
       "Haloid                          70\n",
       "Luminos                         68\n",
       "Darko                           46\n",
       "Foma                            37\n",
       "Oriental                        36\n",
       "Ferrania                        36\n",
       "Forte                           34\n",
       "Kodak Canada                    32\n",
       "Kentmere                        21\n",
       "Negra                           15\n",
       "Wellington & Ward               14\n",
       "Voigtlander                     13\n",
       "Autotype                        12\n",
       "Spiratone                       11\n",
       "Konica                          11\n",
       "Fuji                             9\n",
       "Arista                           8\n",
       "Mitsubishi                       7\n",
       "McGraw                           7\n",
       "Photon                           7\n",
       "Kodak Australia                  7\n",
       "Paget                            6\n",
       "Zone VI                          6\n",
       "Pal                              6\n",
       "Argenta                          5\n",
       "D and P                          5\n",
       "Dassonville                      5\n",
       "[Indeterminate]                  5\n",
       "Illingworth's                    5\n",
       "Unicolor                         5\n",
       "Tura                             4\n",
       "Slavich Photographic Paper       4\n",
       "Positiv                          3\n",
       "GAF                              3\n",
       "Supreme Photo Products           3\n",
       "Name: count, dtype: int64"
      ]
     },
     "execution_count": 32,
     "metadata": {},
     "output_type": "execute_result"
    }
   ],
   "source": [
    "df.Manufacturer.value_counts()[:50]"
   ]
  },
  {
   "cell_type": "code",
   "execution_count": null,
   "id": "65380563-db0e-4e8e-9902-79d73733a6fc",
   "metadata": {},
   "outputs": [],
   "source": []
  }
 ],
 "metadata": {
  "kernelspec": {
   "display_name": "Python 3 (ipykernel)",
   "language": "python",
   "name": "python3"
  },
  "language_info": {
   "codemirror_mode": {
    "name": "ipython",
    "version": 3
   },
   "file_extension": ".py",
   "mimetype": "text/x-python",
   "name": "python",
   "nbconvert_exporter": "python",
   "pygments_lexer": "ipython3",
   "version": "3.12.2"
  }
 },
 "nbformat": 4,
 "nbformat_minor": 5
}
