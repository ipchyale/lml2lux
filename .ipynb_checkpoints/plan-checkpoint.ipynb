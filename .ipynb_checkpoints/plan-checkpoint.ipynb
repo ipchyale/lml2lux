{
 "cells": [
  {
   "cell_type": "markdown",
   "id": "c3cef047-2a1b-4f6c-9c53-9ba44c21213f",
   "metadata": {},
   "source": []
  },
  {
   "cell_type": "markdown",
   "id": "ae80891c-64c7-45b4-83e1-e5c6edf6cd78",
   "metadata": {},
   "source": []
  },
  {
   "cell_type": "markdown",
   "id": "66c429c6-1f6e-442b-bfc6-4edab29c8e12",
   "metadata": {},
   "source": []
  },
  {
   "cell_type": "markdown",
   "id": "483cacb1-548e-4fe1-82c9-b28f3043f1fc",
   "metadata": {},
   "source": []
  },
  {
   "cell_type": "markdown",
   "id": "032c472f-2971-46f8-bce4-65b13508076f",
   "metadata": {},
   "source": []
  },
  {
   "cell_type": "markdown",
   "id": "0d56b75d-7a2f-4eb9-a95c-08108c702a71",
   "metadata": {},
   "source": []
  },
  {
   "cell_type": "markdown",
   "id": "f84af6f7-c828-4299-8c81-3e5aa6076542",
   "metadata": {},
   "source": []
  },
  {
   "cell_type": "markdown",
   "id": "49f6952c-15db-40aa-9d81-00632c79bf02",
   "metadata": {},
   "source": []
  },
  {
   "cell_type": "markdown",
   "id": "1eeaceca-bc8e-44b3-8443-a0588fbf007e",
   "metadata": {},
   "source": []
  }
 ],
 "metadata": {
  "kernelspec": {
   "display_name": "Python 3 (ipykernel)",
   "language": "python",
   "name": "python3"
  },
  "language_info": {
   "codemirror_mode": {
    "name": "ipython",
    "version": 3
   },
   "file_extension": ".py",
   "mimetype": "text/x-python",
   "name": "python",
   "nbconvert_exporter": "python",
   "pygments_lexer": "ipython3",
   "version": "3.10.4"
  }
 },
 "nbformat": 4,
 "nbformat_minor": 5
}
